{
 "cells": [
  {
   "cell_type": "markdown",
   "metadata": {},
   "source": [
    "# Speed"
   ]
  },
  {
   "cell_type": "markdown",
   "metadata": {},
   "source": [
    "## Background\n",
    "\n"
   ]
  },
  {
   "cell_type": "markdown",
   "metadata": {},
   "source": [
    "In the previous project, we implemented a function called `square_root_linear_update` that updates a previous state estimate with one new measurement. \n",
    "\n",
    "If Kalman filters are used to estimate the parameters of The Technology of Skill Formation, the update step has to be carried out repeatedly for all observations in a dataset. This can be achieved by calling the above function in a loop. `code/update.py` contains a function called `pandas_batch_update` that does this. \n",
    "\n",
    "You can see that in `pandas_batch_update` most inputs got one dimension more than before. This was problematic in the case of root_cov, since it already was a DataFrame. Therefore, we used lists of DataFrames. \n",
    "\n",
    "Unfortunately, `pandas_batch_update` is extremely slow. Our main task during this project is to make it fast.\n",
    "\n",
    "To measure the speed of the pandas function and our function, we use the data from Cunha, Heckman and Schennach 2010. The initial state estimate is zero for every individual. The initial covariance is also identical for all individuals and can be constructed from estimated parameters. \n",
    "\n",
    "For the benchmark we are going to update the initial state estimate with the first measurement of cognitive skills (birthweight). The factor loading for this measurement was normalized to 1. Unfortunately, the parameters of the measurement variance are not reported, so we just fix a value.\n",
    "\n",
    "For simplicity, we filled all missing observations with the average birthweight. This is not necessary for estimation, but writing a Kalman update that can handle missing data and is fast is too difficult for this assignment.\n",
    "\n",
    "The speed of our function will be measured on the same data and in the same way as we measure the speed of `pandas_batch_update.py` in timing.py."
   ]
  },
  {
   "cell_type": "markdown",
   "metadata": {},
   "source": [
    "## Steps\n",
    "\n",
    "\n",
    "1. We run `timing.py`. It will print out the runtime of `pandas_batch_update`. Originally, it took about 5 seconds on our laptop. \n",
    "\n",
    "2. Adjust our tests from last time for a function called `fast_batch_update` with the following interface:\n",
    "\n",
    "    ```python\n",
    "    def fast_batch_update(states, root_covs, measurements, loadings, meas_var):\n",
    "        \"\"\"Update state estimates for a whole dataset.\n",
    "        \n",
    "        Let nstates be the number of states and nobs the number of observations.\n",
    "        \n",
    "        Args:\n",
    "            states (np.ndarray): 2d array of size (nobs, nstates)\n",
    "            root_covs (np.ndarray): 3d array of size (nobs, nstates, nstates)\n",
    "            measurements (np.ndarray): 1d array of size (nobs)\n",
    "            loadings (np.ndarray): 1d array of size (nstates)\n",
    "            meas_var (float):\n",
    "        \n",
    "        Returns:\n",
    "            updated_states (np.ndarray): 2d array of size (nobs, nstates)\n",
    "            updated_root_covs (np.ndarray): 3d array of size (nobs, nstates, nstates)\n",
    "        \n",
    "        \"\"\"\n",
    "    ```\n",
    "    \n",
    "\n",
    "3. We implemented the function `fast_batch_update` in the module `update.py` and make it as fast as possible. Extend `timing.py` such that it also measures and prints the runtime of `fast_batch_update`. We use Numba to replace NumPy in certain cases. "
   ]
  }
 ],
 "metadata": {
  "kernelspec": {
   "display_name": "Python 3",
   "language": "python",
   "name": "python3"
  },
  "language_info": {
   "codemirror_mode": {
    "name": "ipython",
    "version": 3
   },
   "file_extension": ".py",
   "mimetype": "text/x-python",
   "name": "python",
   "nbconvert_exporter": "python",
   "pygments_lexer": "ipython3",
   "version": "3.6.7"
  }
 },
 "nbformat": 4,
 "nbformat_minor": 2
}
