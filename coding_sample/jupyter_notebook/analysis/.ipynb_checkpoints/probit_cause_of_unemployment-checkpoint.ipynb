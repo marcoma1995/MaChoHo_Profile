{
 "cells": [
  {
   "cell_type": "code",
   "execution_count": 1,
   "metadata": {},
   "outputs": [],
   "source": [
    "import pandas as pd\n",
    "import numpy as np\n",
    "from scipy.optimize import minimize\n",
    "from scipy.stats import poisson, norm\n",
    "from statsmodels.iolib.summary2 import summary_col\n",
    "import scipy.stats\n",
    "import scipy as sc\n",
    "import matplotlib.pyplot as plt\n",
    "import math\n",
    "%matplotlib inline\n",
    "import statsmodels.api as sm\n",
    "from statsmodels.discrete.discrete_model import Probit\n",
    "from patsy import dmatrices"
   ]
  },
  {
   "cell_type": "code",
   "execution_count": 2,
   "metadata": {},
   "outputs": [],
   "source": [
    "data = pd.read_csv(\"../clean_data/sample_regression.csv\", index_col=[0])"
   ]
  },
  {
   "cell_type": "code",
   "execution_count": 3,
   "metadata": {},
   "outputs": [],
   "source": [
    "data = sm.add_constant(data)\n",
    "data_male = data.loc[data['sex'] == 1.0] \n",
    "data_female = data.loc[data['sex'] == 0.0] "
   ]
  },
  {
   "cell_type": "code",
   "execution_count": 4,
   "metadata": {},
   "outputs": [],
   "source": [
    "trait = ['const','openness', 'conscientiousness', 'extraversion', 'agreeableness', 'neuroticism', 'locus_of_control_std']\n",
    "trait_control = ['const','openness', 'conscientiousness', 'extraversion', 'agreeableness', 'neuroticism', 'locus_of_control_std',\n",
    "                  'hh_income_satisfaction', 'marital_status', 'german_nationality', 'health_status', 'years_schooling', 'children', 'age', \n",
    "                 'age_sqr', 'umemployed_last_year']"
   ]
  },
  {
   "cell_type": "code",
   "execution_count": 5,
   "metadata": {},
   "outputs": [
    {
     "name": "stdout",
     "output_type": "stream",
     "text": [
      "Optimization terminated successfully.\n",
      "         Current function value: 0.397626\n",
      "         Iterations 6\n",
      "                          Probit Regression Results                           \n",
      "==============================================================================\n",
      "Dep. Variable:             umemployed   No. Observations:                34118\n",
      "Model:                         Probit   Df Residuals:                    34111\n",
      "Method:                           MLE   Df Model:                            6\n",
      "Date:                Mon, 15 Apr 2019   Pseudo R-squ.:                 0.04096\n",
      "Time:                        15:07:43   Log-Likelihood:                -13566.\n",
      "converged:                       True   LL-Null:                       -14146.\n",
      "                                        LLR p-value:                4.077e-247\n",
      "========================================================================================\n",
      "                           coef    std err          z      P>|z|      [0.025      0.975]\n",
      "----------------------------------------------------------------------------------------\n",
      "const                   -1.0648      0.009   -123.364      0.000      -1.082      -1.048\n",
      "openness                 0.0346      0.009      3.775      0.000       0.017       0.053\n",
      "conscientiousness       -0.0869      0.012     -7.234      0.000      -0.110      -0.063\n",
      "extraversion            -0.0351      0.012     -2.947      0.003      -0.058      -0.012\n",
      "agreeableness            0.1030      0.009     10.943      0.000       0.085       0.121\n",
      "neuroticism              0.1633      0.009     17.837      0.000       0.145       0.181\n",
      "locus_of_control_std    -0.1618      0.009    -17.698      0.000      -0.180      -0.144\n",
      "========================================================================================\n"
     ]
    }
   ],
   "source": [
    "probit_simple = sm.Probit(data.umemployed, data[trait]).fit()\n",
    "print(probit_simple.summary())"
   ]
  },
  {
   "cell_type": "code",
   "execution_count": 6,
   "metadata": {},
   "outputs": [],
   "source": [
    "Order=[ 'const', 'openness', 'conscientiousness', 'extraversion', 'agreeableness', 'neuroticism', 'locus_of_control_std', 'sex', 'hh_income_satisfaction', 'marital_status', 'german_nationality', 'health_status', 'years_schooling', 'children', 'age', \n",
    "                 'age_sqr', 'umemployed_last_year']"
   ]
  },
  {
   "cell_type": "code",
   "execution_count": 7,
   "metadata": {},
   "outputs": [
    {
     "name": "stdout",
     "output_type": "stream",
     "text": [
      "     Probit model - simple\n",
      "================================\n",
      "                     unemploymed\n",
      "--------------------------------\n",
      "const                -1.06***   \n",
      "                     (0.01)     \n",
      "openness             0.03***    \n",
      "                     (0.01)     \n",
      "conscientiousness    -0.09***   \n",
      "                     (0.01)     \n",
      "extraversion         -0.04***   \n",
      "                     (0.01)     \n",
      "agreeableness        0.10***    \n",
      "                     (0.01)     \n",
      "neuroticism          0.16***    \n",
      "                     (0.01)     \n",
      "locus_of_control_std -0.16***   \n",
      "                     (0.01)     \n",
      "No. observations     34118      \n",
      "================================\n",
      "Standard errors in parentheses.\n",
      "* p<.1, ** p<.05, ***p<.01\n"
     ]
    }
   ],
   "source": [
    "info_dict={'No. observations' : lambda x: f\"{int(x.nobs):d}\"}\n",
    "\n",
    "results_table = summary_col(results=[probit_simple],\n",
    "                            float_format='%0.2f',\n",
    "                            stars = True,\n",
    "                            model_names=['unemploymed'],\n",
    "                            info_dict=info_dict,\n",
    "                            regressor_order=Order)\n",
    "\n",
    "results_table.add_title('Probit model - simple')\n",
    "\n",
    "print(results_table)"
   ]
  },
  {
   "cell_type": "code",
   "execution_count": 8,
   "metadata": {},
   "outputs": [
    {
     "name": "stdout",
     "output_type": "stream",
     "text": [
      "Optimization terminated successfully.\n",
      "         Current function value: 0.218512\n",
      "         Iterations 7\n",
      "                          Probit Regression Results                           \n",
      "==============================================================================\n",
      "Dep. Variable:             umemployed   No. Observations:                34118\n",
      "Model:                         Probit   Df Residuals:                    34102\n",
      "Method:                           MLE   Df Model:                           15\n",
      "Date:                Mon, 15 Apr 2019   Pseudo R-squ.:                  0.4730\n",
      "Time:                        15:07:43   Log-Likelihood:                -7455.2\n",
      "converged:                       True   LL-Null:                       -14146.\n",
      "                                        LLR p-value:                     0.000\n",
      "==========================================================================================\n",
      "                             coef    std err          z      P>|z|      [0.025      0.975]\n",
      "------------------------------------------------------------------------------------------\n",
      "const                      2.3654      0.302      7.839      0.000       1.774       2.957\n",
      "openness                   0.0438      0.012      3.621      0.000       0.020       0.068\n",
      "conscientiousness         -0.0496      0.016     -3.110      0.002      -0.081      -0.018\n",
      "extraversion              -0.0260      0.016     -1.666      0.096      -0.057       0.005\n",
      "agreeableness              0.0554      0.012      4.488      0.000       0.031       0.080\n",
      "neuroticism                0.0612      0.012      5.016      0.000       0.037       0.085\n",
      "locus_of_control_std      -0.0380      0.012     -3.048      0.002      -0.063      -0.014\n",
      "hh_income_satisfaction    -0.0807      0.005    -15.569      0.000      -0.091      -0.071\n",
      "marital_status             0.0739      0.027      2.710      0.007       0.020       0.127\n",
      "german_nationality        -0.0804      0.051     -1.583      0.113      -0.180       0.019\n",
      "health_status              0.2507      0.031      8.019      0.000       0.189       0.312\n",
      "years_schooling           -0.0310      0.005     -6.767      0.000      -0.040      -0.022\n",
      "children                   0.1080      0.013      8.344      0.000       0.083       0.133\n",
      "age                       -0.1591      0.014    -11.019      0.000      -0.187      -0.131\n",
      "age_sqr                    0.0018      0.000     10.720      0.000       0.002       0.002\n",
      "umemployed_last_year       2.2220      0.024     93.115      0.000       2.175       2.269\n",
      "==========================================================================================\n"
     ]
    }
   ],
   "source": [
    "probit_control = sm.Probit(data.umemployed, data[trait_control]).fit()\n",
    "print(probit_control.summary())"
   ]
  },
  {
   "cell_type": "code",
   "execution_count": 9,
   "metadata": {},
   "outputs": [
    {
     "name": "stdout",
     "output_type": "stream",
     "text": [
      "      Probit model - control\n",
      "==================================\n",
      "                       unemploymed\n",
      "----------------------------------\n",
      "const                  2.37***    \n",
      "                       (0.30)     \n",
      "openness               0.04***    \n",
      "                       (0.01)     \n",
      "conscientiousness      -0.05***   \n",
      "                       (0.02)     \n",
      "extraversion           -0.03*     \n",
      "                       (0.02)     \n",
      "agreeableness          0.06***    \n",
      "                       (0.01)     \n",
      "neuroticism            0.06***    \n",
      "                       (0.01)     \n",
      "locus_of_control_std   -0.04***   \n",
      "                       (0.01)     \n",
      "hh_income_satisfaction -0.08***   \n",
      "                       (0.01)     \n",
      "marital_status         0.07***    \n",
      "                       (0.03)     \n",
      "german_nationality     -0.08      \n",
      "                       (0.05)     \n",
      "health_status          0.25***    \n",
      "                       (0.03)     \n",
      "years_schooling        -0.03***   \n",
      "                       (0.00)     \n",
      "children               0.11***    \n",
      "                       (0.01)     \n",
      "age                    -0.16***   \n",
      "                       (0.01)     \n",
      "age_sqr                0.00***    \n",
      "                       (0.00)     \n",
      "umemployed_last_year   2.22***    \n",
      "                       (0.02)     \n",
      "No. observations       34118      \n",
      "==================================\n",
      "Standard errors in parentheses.\n",
      "* p<.1, ** p<.05, ***p<.01\n"
     ]
    }
   ],
   "source": [
    "info_dict={'No. observations' : lambda x: f\"{int(x.nobs):d}\"}\n",
    "\n",
    "results_table = summary_col(results=[probit_control],\n",
    "                            float_format='%0.2f',\n",
    "                            stars = True,\n",
    "                            model_names=['unemploymed'],\n",
    "                            info_dict=info_dict,\n",
    "                            regressor_order=Order)\n",
    "\n",
    "results_table.add_title('Probit model - control')\n",
    "\n",
    "print(results_table)"
   ]
  },
  {
   "cell_type": "code",
   "execution_count": 10,
   "metadata": {},
   "outputs": [
    {
     "name": "stdout",
     "output_type": "stream",
     "text": [
      "Optimization terminated successfully.\n",
      "         Current function value: 0.140078\n",
      "         Iterations 8\n",
      "                          Probit Regression Results                           \n",
      "==============================================================================\n",
      "Dep. Variable:             umemployed   No. Observations:                15836\n",
      "Model:                         Probit   Df Residuals:                    15820\n",
      "Method:                           MLE   Df Model:                           15\n",
      "Date:                Mon, 15 Apr 2019   Pseudo R-squ.:                  0.5218\n",
      "Time:                        15:07:43   Log-Likelihood:                -2218.3\n",
      "converged:                       True   LL-Null:                       -4638.4\n",
      "                                        LLR p-value:                     0.000\n",
      "==========================================================================================\n",
      "                             coef    std err          z      P>|z|      [0.025      0.975]\n",
      "------------------------------------------------------------------------------------------\n",
      "const                      3.2958      0.530      6.215      0.000       2.256       4.335\n",
      "openness                   0.0083      0.023      0.368      0.713      -0.036       0.053\n",
      "conscientiousness         -0.0663      0.028     -2.370      0.018      -0.121      -0.011\n",
      "extraversion              -0.0074      0.029     -0.260      0.795      -0.064       0.049\n",
      "agreeableness              0.0169      0.022      0.777      0.437      -0.026       0.060\n",
      "neuroticism                0.0471      0.023      2.069      0.039       0.002       0.092\n",
      "locus_of_control_std      -0.0815      0.022     -3.683      0.000      -0.125      -0.038\n",
      "hh_income_satisfaction    -0.1401      0.009    -15.091      0.000      -0.158      -0.122\n",
      "marital_status            -0.1677      0.049     -3.408      0.001      -0.264      -0.071\n",
      "german_nationality        -0.0144      0.100     -0.145      0.885      -0.209       0.181\n",
      "health_status              0.3967      0.051      7.812      0.000       0.297       0.496\n",
      "years_schooling           -0.0500      0.009     -5.601      0.000      -0.068      -0.033\n",
      "children                   0.0143      0.027      0.536      0.592      -0.038       0.067\n",
      "age                       -0.1876      0.025     -7.516      0.000      -0.237      -0.139\n",
      "age_sqr                    0.0022      0.000      7.533      0.000       0.002       0.003\n",
      "umemployed_last_year       2.1513      0.045     47.661      0.000       2.063       2.240\n",
      "==========================================================================================\n"
     ]
    }
   ],
   "source": [
    "probit_male_control = sm.Probit(data_male.umemployed, data_male[trait_control]).fit()\n",
    "print(probit_male_control.summary())"
   ]
  },
  {
   "cell_type": "code",
   "execution_count": 11,
   "metadata": {},
   "outputs": [
    {
     "name": "stdout",
     "output_type": "stream",
     "text": [
      "Probit model (male sample with control)\n",
      "==================================\n",
      "                       unemploymed\n",
      "----------------------------------\n",
      "const                  3.30***    \n",
      "                       (0.53)     \n",
      "openness               0.01       \n",
      "                       (0.02)     \n",
      "conscientiousness      -0.07**    \n",
      "                       (0.03)     \n",
      "extraversion           -0.01      \n",
      "                       (0.03)     \n",
      "agreeableness          0.02       \n",
      "                       (0.02)     \n",
      "neuroticism            0.05**     \n",
      "                       (0.02)     \n",
      "locus_of_control_std   -0.08***   \n",
      "                       (0.02)     \n",
      "hh_income_satisfaction -0.14***   \n",
      "                       (0.01)     \n",
      "marital_status         -0.17***   \n",
      "                       (0.05)     \n",
      "german_nationality     -0.01      \n",
      "                       (0.10)     \n",
      "health_status          0.40***    \n",
      "                       (0.05)     \n",
      "years_schooling        -0.05***   \n",
      "                       (0.01)     \n",
      "children               0.01       \n",
      "                       (0.03)     \n",
      "age                    -0.19***   \n",
      "                       (0.02)     \n",
      "age_sqr                0.00***    \n",
      "                       (0.00)     \n",
      "umemployed_last_year   2.15***    \n",
      "                       (0.05)     \n",
      "No. observations       15836      \n",
      "==================================\n",
      "Standard errors in parentheses.\n",
      "* p<.1, ** p<.05, ***p<.01\n"
     ]
    }
   ],
   "source": [
    "info_dict={'No. observations' : lambda x: f\"{int(x.nobs):d}\"}\n",
    "\n",
    "results_table = summary_col(results=[probit_male_control],\n",
    "                            float_format='%0.2f',\n",
    "                            stars = True,\n",
    "                            model_names=['unemploymed'],\n",
    "                            info_dict=info_dict,\n",
    "                            regressor_order=Order)\n",
    "\n",
    "results_table.add_title('Probit model (male sample with control)')\n",
    "\n",
    "print(results_table)"
   ]
  },
  {
   "cell_type": "code",
   "execution_count": 12,
   "metadata": {},
   "outputs": [
    {
     "name": "stdout",
     "output_type": "stream",
     "text": [
      "Optimization terminated successfully.\n",
      "         Current function value: 0.275214\n",
      "         Iterations 7\n",
      "                          Probit Regression Results                           \n",
      "==============================================================================\n",
      "Dep. Variable:             umemployed   No. Observations:                18282\n",
      "Model:                         Probit   Df Residuals:                    18266\n",
      "Method:                           MLE   Df Model:                           15\n",
      "Date:                Mon, 15 Apr 2019   Pseudo R-squ.:                  0.4452\n",
      "Time:                        15:07:44   Log-Likelihood:                -5031.5\n",
      "converged:                       True   LL-Null:                       -9069.6\n",
      "                                        LLR p-value:                     0.000\n",
      "==========================================================================================\n",
      "                             coef    std err          z      P>|z|      [0.025      0.975]\n",
      "------------------------------------------------------------------------------------------\n",
      "const                      2.2746      0.376      6.043      0.000       1.537       3.012\n",
      "openness                   0.0389      0.015      2.656      0.008       0.010       0.068\n",
      "conscientiousness         -0.0495      0.020     -2.464      0.014      -0.089      -0.010\n",
      "extraversion              -0.0348      0.019     -1.828      0.068      -0.072       0.003\n",
      "agreeableness              0.0373      0.016      2.384      0.017       0.007       0.068\n",
      "neuroticism                0.0187      0.015      1.227      0.220      -0.011       0.049\n",
      "locus_of_control_std      -0.0242      0.016     -1.557      0.119      -0.055       0.006\n",
      "hh_income_satisfaction    -0.0634      0.006     -9.898      0.000      -0.076      -0.051\n",
      "marital_status             0.1663      0.034      4.929      0.000       0.100       0.232\n",
      "german_nationality        -0.1270      0.061     -2.068      0.039      -0.247      -0.007\n",
      "health_status              0.1891      0.040      4.718      0.000       0.111       0.268\n",
      "years_schooling           -0.0258      0.006     -4.630      0.000      -0.037      -0.015\n",
      "children                   0.1470      0.016      9.117      0.000       0.115       0.179\n",
      "age                       -0.1585      0.018     -8.754      0.000      -0.194      -0.123\n",
      "age_sqr                    0.0018      0.000      8.535      0.000       0.001       0.002\n",
      "umemployed_last_year       2.1205      0.029     73.337      0.000       2.064       2.177\n",
      "==========================================================================================\n"
     ]
    }
   ],
   "source": [
    "probit_female_control = sm.Probit(data_female.umemployed, data_female[trait_control]).fit()\n",
    "print(probit_female_control.summary())"
   ]
  },
  {
   "cell_type": "code",
   "execution_count": 13,
   "metadata": {},
   "outputs": [
    {
     "name": "stdout",
     "output_type": "stream",
     "text": [
      "Probit model (female sample with control)\n",
      "==================================\n",
      "                       unemploymed\n",
      "----------------------------------\n",
      "const                  2.27***    \n",
      "                       (0.38)     \n",
      "openness               0.04***    \n",
      "                       (0.01)     \n",
      "conscientiousness      -0.05**    \n",
      "                       (0.02)     \n",
      "extraversion           -0.03*     \n",
      "                       (0.02)     \n",
      "agreeableness          0.04**     \n",
      "                       (0.02)     \n",
      "neuroticism            0.02       \n",
      "                       (0.02)     \n",
      "locus_of_control_std   -0.02      \n",
      "                       (0.02)     \n",
      "hh_income_satisfaction -0.06***   \n",
      "                       (0.01)     \n",
      "marital_status         0.17***    \n",
      "                       (0.03)     \n",
      "german_nationality     -0.13**    \n",
      "                       (0.06)     \n",
      "health_status          0.19***    \n",
      "                       (0.04)     \n",
      "years_schooling        -0.03***   \n",
      "                       (0.01)     \n",
      "children               0.15***    \n",
      "                       (0.02)     \n",
      "age                    -0.16***   \n",
      "                       (0.02)     \n",
      "age_sqr                0.00***    \n",
      "                       (0.00)     \n",
      "umemployed_last_year   2.12***    \n",
      "                       (0.03)     \n",
      "No. observations       18282      \n",
      "==================================\n",
      "Standard errors in parentheses.\n",
      "* p<.1, ** p<.05, ***p<.01\n"
     ]
    }
   ],
   "source": [
    "info_dict={'No. observations' : lambda x: f\"{int(x.nobs):d}\"}\n",
    "\n",
    "results_table = summary_col(results=[probit_female_control],\n",
    "                            float_format='%0.2f',\n",
    "                            stars = True,\n",
    "                            model_names=['unemploymed'],\n",
    "                            info_dict=info_dict,\n",
    "                            regressor_order=Order)\n",
    "\n",
    "results_table.add_title('Probit model (female sample with control)')\n",
    "\n",
    "print(results_table)"
   ]
  }
 ],
 "metadata": {
  "kernelspec": {
   "display_name": "Python 3",
   "language": "python",
   "name": "python3"
  },
  "language_info": {
   "codemirror_mode": {
    "name": "ipython",
    "version": 3
   },
   "file_extension": ".py",
   "mimetype": "text/x-python",
   "name": "python",
   "nbconvert_exporter": "python",
   "pygments_lexer": "ipython3",
   "version": "3.6.7"
  }
 },
 "nbformat": 4,
 "nbformat_minor": 2
}
