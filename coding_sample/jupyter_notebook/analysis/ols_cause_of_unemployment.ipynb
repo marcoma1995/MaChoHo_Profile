{
 "cells": [
  {
   "cell_type": "code",
   "execution_count": 10,
   "metadata": {},
   "outputs": [],
   "source": [
    "import pandas as pd\n",
    "import numpy as np\n",
    "from scipy.optimize import minimize\n",
    "from scipy.stats import poisson, norm\n",
    "from statsmodels.iolib.summary2 import summary_col\n",
    "import scipy.stats\n",
    "import scipy as sc\n",
    "import matplotlib.pyplot as plt\n",
    "import math\n",
    "%matplotlib inline\n",
    "import statsmodels.api as sm\n",
    "from statsmodels.discrete.discrete_model import Probit\n",
    "from patsy import dmatrices"
   ]
  },
  {
   "cell_type": "code",
   "execution_count": 11,
   "metadata": {},
   "outputs": [],
   "source": [
    "data = pd.read_csv(\"../clean_data/employ_sample.csv\")"
   ]
  },
  {
   "cell_type": "code",
   "execution_count": 12,
   "metadata": {},
   "outputs": [],
   "source": [
    "trait = ['const','openness', 'conscientiousness', 'extraversion', 'agreeableness', 'neuroticism']\n",
    "trait_control = ['const','openness', 'conscientiousness', 'extraversion', 'agreeableness', 'neuroticism', 'age', 'age_sqr', 'sex', \n",
    "                 'marital_status', 'german_nationality', 'hh_income_satisfaction']"
   ]
  },
  {
   "cell_type": "code",
   "execution_count": 13,
   "metadata": {},
   "outputs": [],
   "source": [
    "data = sm.add_constant(data)"
   ]
  },
  {
   "cell_type": "code",
   "execution_count": 14,
   "metadata": {},
   "outputs": [],
   "source": [
    "Order=[ 'const', 'openness', 'conscientiousness', 'extraversion', 'agreeableness', 'neuroticism', 'age', 'age_sqr', 'sex',\n",
    "                 'marital_status', 'german_nationality', 'hh_income_satisfaction']"
   ]
  },
  {
   "cell_type": "code",
   "execution_count": 15,
   "metadata": {},
   "outputs": [
    {
     "name": "stdout",
     "output_type": "stream",
     "text": [
      "                               OLS Regression Results                               \n",
      "====================================================================================\n",
      "Dep. Variable:     total_unemployment_years   R-squared:                       0.017\n",
      "Model:                                  OLS   Adj. R-squared:                  0.017\n",
      "Method:                       Least Squares   F-statistic:                     18.39\n",
      "Date:                      Fri, 22 Mar 2019   Prob (F-statistic):           3.84e-18\n",
      "Time:                              16:31:34   Log-Likelihood:                -10971.\n",
      "No. Observations:                      5171   AIC:                         2.195e+04\n",
      "Df Residuals:                          5165   BIC:                         2.199e+04\n",
      "Df Model:                                 5                                         \n",
      "Covariance Type:                  nonrobust                                         \n",
      "=====================================================================================\n",
      "                        coef    std err          t      P>|t|      [0.025      0.975]\n",
      "-------------------------------------------------------------------------------------\n",
      "const                 1.0930      0.029     38.102      0.000       1.037       1.149\n",
      "openness              0.1151      0.036      3.221      0.001       0.045       0.185\n",
      "conscientiousness     0.0505      0.051      0.986      0.324      -0.050       0.151\n",
      "extraversion         -0.2046      0.052     -3.959      0.000      -0.306      -0.103\n",
      "agreeableness         0.1840      0.038      4.906      0.000       0.110       0.257\n",
      "neuroticism           0.1990      0.035      5.728      0.000       0.131       0.267\n",
      "==============================================================================\n",
      "Omnibus:                     1964.836   Durbin-Watson:                   0.755\n",
      "Prob(Omnibus):                  0.000   Jarque-Bera (JB):             5905.299\n",
      "Skew:                           2.036   Prob(JB):                         0.00\n",
      "Kurtosis:                       6.289   Cond. No.                         2.73\n",
      "==============================================================================\n",
      "\n",
      "Warnings:\n",
      "[1] Standard Errors assume that the covariance matrix of the errors is correctly specified.\n"
     ]
    }
   ],
   "source": [
    "ols_simple = sm.OLS(data.total_unemployment_years, data[trait]).fit()\n",
    "print(ols_simple.summary())"
   ]
  },
  {
   "cell_type": "code",
   "execution_count": 16,
   "metadata": {},
   "outputs": [
    {
     "name": "stdout",
     "output_type": "stream",
     "text": [
      "                               OLS Regression Results                               \n",
      "====================================================================================\n",
      "Dep. Variable:     total_unemployment_years   R-squared:                       0.301\n",
      "Model:                                  OLS   Adj. R-squared:                  0.299\n",
      "Method:                       Least Squares   F-statistic:                     201.5\n",
      "Date:                      Fri, 22 Mar 2019   Prob (F-statistic):               0.00\n",
      "Time:                              16:31:34   Log-Likelihood:                -10092.\n",
      "No. Observations:                      5171   AIC:                         2.021e+04\n",
      "Df Residuals:                          5159   BIC:                         2.029e+04\n",
      "Df Model:                                11                                         \n",
      "Covariance Type:                  nonrobust                                         \n",
      "==========================================================================================\n",
      "                             coef    std err          t      P>|t|      [0.025      0.975]\n",
      "------------------------------------------------------------------------------------------\n",
      "const                     10.0444      0.353     28.432      0.000       9.352      10.737\n",
      "openness                   0.0165      0.030      0.542      0.588      -0.043       0.076\n",
      "conscientiousness         -0.0970      0.044     -2.210      0.027      -0.183      -0.011\n",
      "extraversion               0.0038      0.044      0.085      0.932      -0.083       0.091\n",
      "agreeableness              0.0987      0.033      3.034      0.002       0.035       0.162\n",
      "neuroticism                0.1354      0.031      4.342      0.000       0.074       0.197\n",
      "age                       -0.4557      0.016    -29.336      0.000      -0.486      -0.425\n",
      "age_sqr                    0.0059      0.000     34.334      0.000       0.006       0.006\n",
      "sex                       -0.4027      0.051     -7.924      0.000      -0.502      -0.303\n",
      "marital_status            -0.0902      0.056     -1.603      0.109      -0.200       0.020\n",
      "german_nationality        -0.4316      0.111     -3.894      0.000      -0.649      -0.214\n",
      "hh_income_satisfaction    -0.0502      0.011     -4.443      0.000      -0.072      -0.028\n",
      "==============================================================================\n",
      "Omnibus:                     1452.231   Durbin-Watson:                   1.123\n",
      "Prob(Omnibus):                  0.000   Jarque-Bera (JB):             5073.871\n",
      "Skew:                           1.387   Prob(JB):                         0.00\n",
      "Kurtosis:                       6.982   Cond. No.                     3.37e+04\n",
      "==============================================================================\n",
      "\n",
      "Warnings:\n",
      "[1] Standard Errors assume that the covariance matrix of the errors is correctly specified.\n",
      "[2] The condition number is large, 3.37e+04. This might indicate that there are\n",
      "strong multicollinearity or other numerical problems.\n"
     ]
    }
   ],
   "source": [
    "ols_control = sm.OLS(data.total_unemployment_years, data[trait_control]).fit()\n",
    "print(ols_control.summary())"
   ]
  },
  {
   "cell_type": "code",
   "execution_count": 17,
   "metadata": {},
   "outputs": [
    {
     "name": "stdout",
     "output_type": "stream",
     "text": [
      "            OLS model - simple\n",
      "==========================================\n",
      "                  duration of unemployment\n",
      "------------------------------------------\n",
      "const             1.09***                 \n",
      "                  (0.03)                  \n",
      "openness          0.12***                 \n",
      "                  (0.04)                  \n",
      "conscientiousness 0.05                    \n",
      "                  (0.05)                  \n",
      "extraversion      -0.20***                \n",
      "                  (0.05)                  \n",
      "agreeableness     0.18***                 \n",
      "                  (0.04)                  \n",
      "neuroticism       0.20***                 \n",
      "                  (0.03)                  \n",
      "R-squared         0.02                    \n",
      "No. observations  5171                    \n",
      "==========================================\n",
      "Standard errors in parentheses.\n",
      "* p<.1, ** p<.05, ***p<.01\n"
     ]
    }
   ],
   "source": [
    "info_dict={'R-squared' : lambda x: f\"{x.rsquared:.2f}\",\n",
    "           'No. observations' : lambda x: f\"{int(x.nobs):d}\"}\n",
    "\n",
    "results_table = summary_col(results=[ols_simple],\n",
    "                            float_format='%0.2f',\n",
    "                            stars = True,\n",
    "                            model_names=['duration of unemployment'],\n",
    "                            info_dict=info_dict,\n",
    "                            regressor_order=Order)\n",
    "\n",
    "results_table.add_title('OLS model - simple')\n",
    "\n",
    "print(results_table)"
   ]
  },
  {
   "cell_type": "code",
   "execution_count": 18,
   "metadata": {},
   "outputs": [
    {
     "name": "stdout",
     "output_type": "stream",
     "text": [
      "              OLS model - control\n",
      "===============================================\n",
      "                       duration of unemployment\n",
      "-----------------------------------------------\n",
      "const                  10.04***                \n",
      "                       (0.35)                  \n",
      "openness               0.02                    \n",
      "                       (0.03)                  \n",
      "conscientiousness      -0.10**                 \n",
      "                       (0.04)                  \n",
      "extraversion           0.00                    \n",
      "                       (0.04)                  \n",
      "agreeableness          0.10***                 \n",
      "                       (0.03)                  \n",
      "neuroticism            0.14***                 \n",
      "                       (0.03)                  \n",
      "age                    -0.46***                \n",
      "                       (0.02)                  \n",
      "age_sqr                0.01***                 \n",
      "                       (0.00)                  \n",
      "sex                    -0.40***                \n",
      "                       (0.05)                  \n",
      "marital_status         -0.09                   \n",
      "                       (0.06)                  \n",
      "german_nationality     -0.43***                \n",
      "                       (0.11)                  \n",
      "hh_income_satisfaction -0.05***                \n",
      "                       (0.01)                  \n",
      "R-squared              0.30                    \n",
      "No. observations       5171                    \n",
      "===============================================\n",
      "Standard errors in parentheses.\n",
      "* p<.1, ** p<.05, ***p<.01\n"
     ]
    }
   ],
   "source": [
    "info_dict={'R-squared' : lambda x: f\"{x.rsquared:.2f}\",\n",
    "           'No. observations' : lambda x: f\"{int(x.nobs):d}\"}\n",
    "\n",
    "results_table = summary_col(results=[ols_control],\n",
    "                            float_format='%0.2f',\n",
    "                            stars = True,\n",
    "                            model_names=['duration of unemployment'],\n",
    "                            info_dict=info_dict,\n",
    "                            regressor_order=Order)\n",
    "\n",
    "results_table.add_title('OLS model - control')\n",
    "\n",
    "print(results_table)"
   ]
  }
 ],
 "metadata": {
  "kernelspec": {
   "display_name": "Python 3",
   "language": "python",
   "name": "python3"
  },
  "language_info": {
   "codemirror_mode": {
    "name": "ipython",
    "version": 3
   },
   "file_extension": ".py",
   "mimetype": "text/x-python",
   "name": "python",
   "nbconvert_exporter": "python",
   "pygments_lexer": "ipython3",
   "version": "3.6.7"
  }
 },
 "nbformat": 4,
 "nbformat_minor": 2
}
