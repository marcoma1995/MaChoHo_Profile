{
 "cells": [
  {
   "cell_type": "code",
   "execution_count": 2,
   "metadata": {},
   "outputs": [],
   "source": [
    "import pandas as pd\n",
    "import numpy as np"
   ]
  },
  {
   "cell_type": "code",
   "execution_count": 3,
   "metadata": {},
   "outputs": [],
   "source": [
    "data = pd.read_stata(\"../original_data/bfp.dta\")\n",
    "school = pd.read_stata(\"../original_data/bfpequiv.dta\")"
   ]
  },
  {
   "cell_type": "code",
   "execution_count": 4,
   "metadata": {},
   "outputs": [],
   "source": [
    "# Extract and rename personal information\n",
    "schooling = school.loc[:, ['hhnr','persnr','d1110915', 'd1110715']]\n",
    "schooling.columns = ['cid', 'pid', 'years_schooling', 'children']"
   ]
  },
  {
   "cell_type": "code",
   "execution_count": 5,
   "metadata": {},
   "outputs": [],
   "source": [
    "# Extract and rename personal information\n",
    "data = data.loc[:, ['hhnr','persnr','bfpsex', 'bfp0105', 'bfpbirthy', 'bfp147', 'bfp158', 'bfp127']]\n",
    "data.columns = ['cid','pid','sex', 'hh_income_satisfaction', 'year_of_birth', 'marital_status', 'german_nationality', 'health_status']\n",
    "data = data.merge(schooling, on = ['cid','pid'],how = 'left')"
   ]
  },
  {
   "cell_type": "code",
   "execution_count": 6,
   "metadata": {},
   "outputs": [],
   "source": [
    "data['age'] = 2015 - data['year_of_birth']"
   ]
  },
  {
   "cell_type": "code",
   "execution_count": 7,
   "metadata": {},
   "outputs": [],
   "source": [
    "data['age_sqr'] = np.square(data['age'])"
   ]
  },
  {
   "cell_type": "code",
   "execution_count": 8,
   "metadata": {},
   "outputs": [],
   "source": [
    "#Replace all negative number into pd.np.nan and replace string into number.\n",
    "dict_n = {'[-1] keine Angabe': pd.np.nan, '[1] Ja':1, '[2] Nein':0, '[1] Verheiratet, zusammenlebend' :1, '[2] Verheiratet, getrenntlebend':1,\n",
    "         '[3] Ledig': 0, '[4] Geschieden':0, '[5] Verwitwet':0, '[0] 0 Zufrieden: Skala 0-Niedrig bis 10-Hoch':0, '[1] 1 Zufrieden: Skala 0-Niedrig bis 10-Hoch':1,\n",
    "         '[2] 2 Zufrieden: Skala 0-Niedrig bis 10-Hoch':2, '[3] 3 Zufrieden: Skala 0-Niedrig bis 10-Hoch':3, '[4] 4 Zufrieden: Skala 0-Niedrig bis 10-Hoch':4,\n",
    "         '[5] 5 Zufrieden: Skala 0-Niedrig bis 10-Hoch':5, '[6] 6 Zufrieden: Skala 0-Niedrig bis 10-Hoch':6, '[7] 7 Zufrieden: Skala 0-Niedrig bis 10-Hoch':7,\n",
    "         '[8] 8 Zufrieden: Skala 0-Niedrig bis 10-Hoch':8, '[9] 9 Zufrieden: Skala 0-Niedrig bis 10-Hoch':9, '[10] 10 Zufrieden: Skala 0-Niedrig bis 10-Hoc':10,\n",
    "         '[1] Maennlich':1, '[2] Weiblich':0, -1: pd.np.nan, -2:pd.np.nan, '[1] Sehr gut':0, '[2] Gut':0, '[3] Zufriedenstellend':0, '[4] Weniger gut':1, '[5] Schlecht':1,\n",
    "         '[-5] In Fragebogenversion nicht enthalten':pd.np.nan, -5:pd.np.nan, '[4] Geschieden, eingetragene Partnerschaft aufgehoben':0, '[5] Verwitwet, Lebenspartner/in verstorben':0,\n",
    "         '[6] Eingetragene Partnerschaft, zusammenlebend':1, '[5] Verwitwet, Lebenspartner(in) verstorben':0, '[10] 10 Zufrieden: Skala 0-Niedrig bis 10-Hoch':10, \n",
    "          '[4] Geschieden, eing. gleichg. Partn. aufgehoben':0, '[6] Eing. gleichg. Partn., zusammenlebend':1, '[7] Eing. gleichg. Partn., getrenntlebend':1 }\n",
    "\n",
    "dataset = data.replace(dict_n)"
   ]
  },
  {
   "cell_type": "code",
   "execution_count": 9,
   "metadata": {},
   "outputs": [],
   "source": [
    "dataset = dataset.dropna()"
   ]
  },
  {
   "cell_type": "code",
   "execution_count": 10,
   "metadata": {},
   "outputs": [],
   "source": [
    "dataset.to_csv(\"../clean_data/control_15.csv\")"
   ]
  },
  {
   "cell_type": "code",
   "execution_count": 11,
   "metadata": {},
   "outputs": [
    {
     "ename": "AttributeError",
     "evalue": "'DataFrame' object has no attribute 'martial_status'",
     "output_type": "error",
     "traceback": [
      "\u001b[0;31m---------------------------------------------------------------------------\u001b[0m",
      "\u001b[0;31mAttributeError\u001b[0m                            Traceback (most recent call last)",
      "\u001b[0;32m<ipython-input-11-907824cf7b93>\u001b[0m in \u001b[0;36m<module>\u001b[0;34m\u001b[0m\n\u001b[0;32m----> 1\u001b[0;31m \u001b[0mdataset\u001b[0m\u001b[0;34m.\u001b[0m\u001b[0mmartial_status\u001b[0m\u001b[0;34m.\u001b[0m\u001b[0munique\u001b[0m\u001b[0;34m(\u001b[0m\u001b[0;34m)\u001b[0m\u001b[0;34m\u001b[0m\u001b[0;34m\u001b[0m\u001b[0m\n\u001b[0m",
      "\u001b[0;32m~/anaconda3/lib/python3.6/site-packages/pandas/core/generic.py\u001b[0m in \u001b[0;36m__getattr__\u001b[0;34m(self, name)\u001b[0m\n\u001b[1;32m   4374\u001b[0m             \u001b[0;32mif\u001b[0m \u001b[0mself\u001b[0m\u001b[0;34m.\u001b[0m\u001b[0m_info_axis\u001b[0m\u001b[0;34m.\u001b[0m\u001b[0m_can_hold_identifiers_and_holds_name\u001b[0m\u001b[0;34m(\u001b[0m\u001b[0mname\u001b[0m\u001b[0;34m)\u001b[0m\u001b[0;34m:\u001b[0m\u001b[0;34m\u001b[0m\u001b[0;34m\u001b[0m\u001b[0m\n\u001b[1;32m   4375\u001b[0m                 \u001b[0;32mreturn\u001b[0m \u001b[0mself\u001b[0m\u001b[0;34m[\u001b[0m\u001b[0mname\u001b[0m\u001b[0;34m]\u001b[0m\u001b[0;34m\u001b[0m\u001b[0;34m\u001b[0m\u001b[0m\n\u001b[0;32m-> 4376\u001b[0;31m             \u001b[0;32mreturn\u001b[0m \u001b[0mobject\u001b[0m\u001b[0;34m.\u001b[0m\u001b[0m__getattribute__\u001b[0m\u001b[0;34m(\u001b[0m\u001b[0mself\u001b[0m\u001b[0;34m,\u001b[0m \u001b[0mname\u001b[0m\u001b[0;34m)\u001b[0m\u001b[0;34m\u001b[0m\u001b[0;34m\u001b[0m\u001b[0m\n\u001b[0m\u001b[1;32m   4377\u001b[0m \u001b[0;34m\u001b[0m\u001b[0m\n\u001b[1;32m   4378\u001b[0m     \u001b[0;32mdef\u001b[0m \u001b[0m__setattr__\u001b[0m\u001b[0;34m(\u001b[0m\u001b[0mself\u001b[0m\u001b[0;34m,\u001b[0m \u001b[0mname\u001b[0m\u001b[0;34m,\u001b[0m \u001b[0mvalue\u001b[0m\u001b[0;34m)\u001b[0m\u001b[0;34m:\u001b[0m\u001b[0;34m\u001b[0m\u001b[0;34m\u001b[0m\u001b[0m\n",
      "\u001b[0;31mAttributeError\u001b[0m: 'DataFrame' object has no attribute 'martial_status'"
     ]
    }
   ],
   "source": [
    "dataset.martial_status.unique()"
   ]
  },
  {
   "cell_type": "code",
   "execution_count": null,
   "metadata": {},
   "outputs": [],
   "source": []
  }
 ],
 "metadata": {
  "kernelspec": {
   "display_name": "Python 3",
   "language": "python",
   "name": "python3"
  },
  "language_info": {
   "codemirror_mode": {
    "name": "ipython",
    "version": 3
   },
   "file_extension": ".py",
   "mimetype": "text/x-python",
   "name": "python",
   "nbconvert_exporter": "python",
   "pygments_lexer": "ipython3",
   "version": "3.6.7"
  }
 },
 "nbformat": 4,
 "nbformat_minor": 2
}
