{
 "cells": [
  {
   "cell_type": "code",
   "execution_count": 1,
   "metadata": {},
   "outputs": [],
   "source": [
    "import numpy as np\n",
    "import pandas as pd\n",
    "from sklearn.decomposition import PCA as sklearnPCA\n",
    "from sklearn.preprocessing import StandardScaler"
   ]
  },
  {
   "cell_type": "code",
   "execution_count": 2,
   "metadata": {},
   "outputs": [],
   "source": [
    "# Load the data\n",
    "adults2005 = pd.read_stata(\"../original_data/vp.dta\")\n",
    "adults2010 = pd.read_stata(\"../original_data/bap.dta\")\n",
    "adults2015 = pd.read_stata(\"../original_data/bfp.dta\")"
   ]
  },
  {
   "cell_type": "code",
   "execution_count": 3,
   "metadata": {},
   "outputs": [],
   "source": [
    "#Extract Column of Variables for Locus of Control.\n",
    "loc_adults_2005 = adults2005.loc[:, 'vp12701':'vp12710']\n",
    "loc_adults_2010 = adults2010.loc[:, 'bap0201':'bap0210']\n",
    "loc_adults_2015 = adults2015.loc[:, 'bfp0501':'bfp0510']"
   ]
  },
  {
   "cell_type": "code",
   "execution_count": 4,
   "metadata": {},
   "outputs": [],
   "source": [
    "#Rename to meaningful names\n",
    "loc_adults_2005.columns = ['life_depends_on_self','not_achieve_derserved','achieve_luck',\n",
    "                          'change_through_activities','others_determine','workhard_to_success',\n",
    "                          'doubt_ability','background_determines','born_determine','little_control']\n",
    "loc_adults_2010.columns = ['life_depends_on_self','not_achieve_derserved','achieve_luck',\n",
    "                          'change_through_activities','others_determine','workhard_to_success',\n",
    "                          'doubt_ability','background_determines','born_determine','little_control']\n",
    "loc_adults_2015.columns = ['life_depends_on_self','not_achieve_derserved','achieve_luck',\n",
    "                          'change_through_activities','others_determine','workhard_to_success',\n",
    "                          'doubt_ability','background_determines','born_determine','little_control']"
   ]
  },
  {
   "cell_type": "code",
   "execution_count": 5,
   "metadata": {},
   "outputs": [],
   "source": [
    "#Extract Column of basic variables we need for the research.\n",
    "ids2005 = adults2005.loc[:, ['hhnr','persnr','welle','vp14701']]\n",
    "ids2010 = adults2010.loc[:, ['hhnr','persnr','welle','bap15001']]\n",
    "ids2015 = adults2015.loc[:, ['hhnr','persnr','welle','bfpsex']]\n",
    "#Rename identifiers to match the other data sets.                         \n",
    "ids2005.columns = ['cid','pid','syear','sex']\n",
    "ids2010.columns = ['cid','pid','syear','sex']  \n",
    "ids2015.columns = ['cid','pid','syear','sex'] "
   ]
  },
  {
   "cell_type": "code",
   "execution_count": 6,
   "metadata": {},
   "outputs": [],
   "source": [
    "data_adults_2005 = pd.concat([ids2005, loc_adults_2005], axis=1)\n",
    "data_adults_2010 = pd.concat([ids2010, loc_adults_2010], axis=1)\n",
    "data_adults_2015 = pd.concat([ids2015, loc_adults_2015], axis=1)\n",
    "#Create a dataframe merge all the data.\n",
    "data_adults_whole = pd.concat([data_adults_2005,  data_adults_2010,  data_adults_2015],sort=False)\n",
    "data_adults = data_adults_whole.reset_index(drop=True)\n"
   ]
  },
  {
   "cell_type": "code",
   "execution_count": 7,
   "metadata": {},
   "outputs": [],
   "source": [
    "#Replace all negative number into pd.np.nan.\n",
    "dict_n = {'[-1] keine Angabe': pd.np.nan}\n",
    "data_adults_nan = data_adults.replace(dict_n)"
   ]
  },
  {
   "cell_type": "code",
   "execution_count": 8,
   "metadata": {},
   "outputs": [],
   "source": [
    "#Replace all string variable we use into number.\n",
    "dict_adults_f = {'[7] Trifft voll zu': 7, '[1] Trifft ueberhaupt nicht zu' : 1, '[7] 7 stimme voll zu, (Skala 1-7)':7,\n",
    "         '[6] 6 auf Skala 1-7':6, '[5] 5 auf Skala 1-7':5, '[4] 4 auf Skala 1-7':4, '[3] 3 auf Skala 1-7':3, '[2] 2 auf Skala 1-7':2\n",
    "          ,'[1] 1 stimme ueberhaupt nicht zu, (Skala 1-7':1,'[1] Ja':1, '[2] Nein':0, '[-5] In Fragebogenversion nicht enthalten':pd.np.nan,\n",
    "                 '[7] 7 Stimme voll zu, (Skala 1-7)':7,'[1] 1 Stimme ueberhaupt nicht zu, (Skala 1-7)':1}\n",
    "\n",
    "data_adults_replace = data_adults_nan.replace(dict_adults_f)\n"
   ]
  },
  {
   "cell_type": "code",
   "execution_count": 9,
   "metadata": {},
   "outputs": [],
   "source": [
    "#Reserves the scale for 'Negative' items.\n",
    "#Create list of 'Negavie' items and dictionary for things I want to replace.\n",
    "#Create a dict of number I want to replace\n",
    "#Replace the number by creating new DataFrame and update\n",
    "\n",
    "dict_adults_r = {1:7, 7:1, 2:6, 6:2, 3:5, 5:3}\n",
    "negative = ['not_achieve_derserved',\n",
    "            'achieve_luck',\n",
    "            'others_determine',\n",
    "            'doubt_ability',\n",
    "            'background_determines',\n",
    "            'born_determine',\n",
    "            'little_control']\n",
    "\n",
    "reverse = data_adults_replace.loc[:,negative].replace(dict_adults_r)\n"
   ]
  },
  {
   "cell_type": "code",
   "execution_count": 10,
   "metadata": {},
   "outputs": [],
   "source": [
    "data_locus_2005= data_adults_replace.loc[(data_adults_replace['syear']==2005)]\n",
    "data_locus_2010= data_adults_replace.loc[(data_adults_replace['syear']==2010)]\n",
    "data_locus_2015= data_adults_replace.loc[(data_adults_replace['syear']==2015)]"
   ]
  },
  {
   "cell_type": "code",
   "execution_count": 11,
   "metadata": {},
   "outputs": [],
   "source": [
    "#transform measures to unit scale (Standardizing)\n",
    "drop_list=['cid','pid','syear','sex']\n",
    "measure_matrix_2005=data_locus_2005.drop(drop_list, axis = 1)\n",
    "measure_matrix_2010=data_locus_2010.drop(drop_list, axis = 1)\n",
    "measure_matrix_2015=data_locus_2015.drop(drop_list, axis = 1)\n",
    "measures_clean_2005 = measure_matrix_2005.dropna()\n",
    "measures_clean_2010 = measure_matrix_2010.dropna()\n",
    "measures_clean_2015 = measure_matrix_2015.dropna()"
   ]
  },
  {
   "cell_type": "code",
   "execution_count": 12,
   "metadata": {},
   "outputs": [],
   "source": [
    "measures_clean_2005_std = StandardScaler().fit_transform(measures_clean_2005)\n",
    "measures_clean_2010_std = StandardScaler().fit_transform(measures_clean_2010)\n",
    "measures_clean_2015_std = StandardScaler().fit_transform(measures_clean_2015)"
   ]
  },
  {
   "cell_type": "code",
   "execution_count": 13,
   "metadata": {},
   "outputs": [
    {
     "name": "stdout",
     "output_type": "stream",
     "text": [
      "[[ 0.28871596 -0.37919486 -0.36000833 -0.01573771 -0.42493688  0.0646455\n",
      "  -0.37404091 -0.31447256 -0.06148732 -0.46440284]]\n"
     ]
    }
   ],
   "source": [
    "#Do the Principal Component Analysis 2005\n",
    "sklearn_pca = sklearnPCA(n_components=1)\n",
    "#Create involvement measure for both parents\n",
    "locus_of_control_2005 = sklearn_pca.fit_transform(measures_clean_2005_std)*(-1)\n",
    "#ptints the factor loadings\n",
    "print(sklearn_pca.components_*(-1))\n",
    "locus_of_control_2005_std = StandardScaler().fit_transform(locus_of_control_2005)\n"
   ]
  },
  {
   "cell_type": "code",
   "execution_count": 14,
   "metadata": {},
   "outputs": [
    {
     "name": "stdout",
     "output_type": "stream",
     "text": [
      "[[ 0.28873533 -0.38415921 -0.35113504  0.02515359 -0.4260749   0.03107637\n",
      "  -0.3805155  -0.31193084 -0.09913044 -0.45902048]]\n"
     ]
    }
   ],
   "source": [
    "#Do the Principal Component Analysis 2010\n",
    "sklearn_pca = sklearnPCA(n_components=1)\n",
    "#Create involvement measure for both parents\n",
    "locus_of_control_2010 = sklearn_pca.fit_transform(measures_clean_2010_std)*(-1)\n",
    "#ptints the factor loadings\n",
    "print(sklearn_pca.components_*(-1))\n",
    "locus_of_control_2010_std = StandardScaler().fit_transform(locus_of_control_2010)\n",
    "#['life_depends_on_self','not_achieve_derserved','achieve_luck',\n",
    "#  'change_through_activities','others_determine','workhard_to_success',\n",
    "#   'doubt_ability','background_determines','born_determine','little_control']"
   ]
  },
  {
   "cell_type": "code",
   "execution_count": 15,
   "metadata": {},
   "outputs": [
    {
     "name": "stdout",
     "output_type": "stream",
     "text": [
      "[[ 0.25722775 -0.38548691 -0.35350458  0.01261146 -0.42780401 -0.01318398\n",
      "  -0.39238964 -0.31811775 -0.1020016  -0.45972409]]\n"
     ]
    }
   ],
   "source": [
    "#Do the Principal Component Analysis 2015\n",
    "sklearn_pca = sklearnPCA(n_components=1)\n",
    "#Create involvement measure for both parents\n",
    "locus_of_control_2015 = sklearn_pca.fit_transform(measures_clean_2015_std)*(-1)\n",
    "#ptints the factor loadings\n",
    "print(sklearn_pca.components_*(-1))\n",
    "locus_of_control_2015_std = StandardScaler().fit_transform(locus_of_control_2015)"
   ]
  },
  {
   "cell_type": "code",
   "execution_count": 16,
   "metadata": {},
   "outputs": [],
   "source": [
    "#save scores in dataframes\n",
    "\n",
    "data_locus_2005_clean=data_locus_2005.loc[:,'cid':'little_control'].dropna()\n",
    "data_locus_2005_clean['locus_of_control_05']=locus_of_control_2005\n",
    "data_locus_2005_clean['locus_of_control_std_05']=locus_of_control_2005_std\n",
    "\n",
    "nondrops_2010=['cid',\n",
    " 'pid',\n",
    " 'syear',\n",
    " 'life_depends_on_self',\n",
    " 'not_achieve_derserved',\n",
    " 'achieve_luck',\n",
    " 'change_through_activities',\n",
    " 'others_determine',\n",
    " 'workhard_to_success',\n",
    " 'doubt_ability',\n",
    " 'background_determines',\n",
    " 'born_determine',\n",
    " 'little_control',\n",
    " 'sex',\n",
    " ]\n",
    "data_locus_2010_clean=data_locus_2010.loc[:,nondrops_2010].dropna()\n",
    "data_locus_2010_clean['locus_of_control_10']=locus_of_control_2010\n",
    "data_locus_2010_clean['locus_of_control_std_10']=locus_of_control_2010_std\n",
    "\n",
    "nondrops_2015=['cid',\n",
    " 'pid',\n",
    " 'syear',\n",
    " 'life_depends_on_self',\n",
    " 'not_achieve_derserved',\n",
    " 'achieve_luck',\n",
    " 'change_through_activities',\n",
    " 'others_determine',\n",
    " 'workhard_to_success',\n",
    " 'doubt_ability',\n",
    " 'background_determines',\n",
    " 'born_determine',\n",
    " 'little_control',\n",
    " 'sex']\n",
    "data_locus_2015_clean=data_locus_2015.loc[:,nondrops_2015].dropna()\n",
    "data_locus_2015_clean['locus_of_control_15']=locus_of_control_2015\n",
    "data_locus_2015_clean['locus_of_control_std_15']=locus_of_control_2015_std"
   ]
  },
  {
   "cell_type": "code",
   "execution_count": 17,
   "metadata": {},
   "outputs": [],
   "source": [
    "#Merge three years of data together\n",
    "data_loc = data_locus_2005_clean.merge(data_locus_2010_clean, on = ['cid','pid'],how = 'left')\n",
    "data_loc = data_loc.merge(data_locus_2015_clean, on = ['cid','pid'],how = 'left')"
   ]
  },
  {
   "cell_type": "code",
   "execution_count": 18,
   "metadata": {},
   "outputs": [],
   "source": [
    "new_loc = data_loc.loc[:,['pid', 'cid', 'locus_of_control_05', 'locus_of_control_std_05', 'locus_of_control_10', 'locus_of_control_std_10',\n",
    "                              'locus_of_control_15', 'locus_of_control_std_15']]"
   ]
  },
  {
   "cell_type": "code",
   "execution_count": 19,
   "metadata": {},
   "outputs": [],
   "source": [
    "loc = new_loc.sort_values(by=['pid'])"
   ]
  },
  {
   "cell_type": "code",
   "execution_count": 20,
   "metadata": {},
   "outputs": [],
   "source": [
    "loc.to_csv('../clean_data/loc.csv')"
   ]
  }
 ],
 "metadata": {
  "kernelspec": {
   "display_name": "Python 3",
   "language": "python",
   "name": "python3"
  },
  "language_info": {
   "codemirror_mode": {
    "name": "ipython",
    "version": 3
   },
   "file_extension": ".py",
   "mimetype": "text/x-python",
   "name": "python",
   "nbconvert_exporter": "python",
   "pygments_lexer": "ipython3",
   "version": "3.6.7"
  }
 },
 "nbformat": 4,
 "nbformat_minor": 2
}
