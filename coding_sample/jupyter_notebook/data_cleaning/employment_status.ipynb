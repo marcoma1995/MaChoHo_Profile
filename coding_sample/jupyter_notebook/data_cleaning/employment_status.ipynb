{
 "cells": [
  {
   "cell_type": "code",
   "execution_count": 1,
   "metadata": {},
   "outputs": [],
   "source": [
    "import pandas as pd\n",
    "import numpy as np\n",
    "from functools import reduce"
   ]
  },
  {
   "cell_type": "code",
   "execution_count": 2,
   "metadata": {},
   "outputs": [],
   "source": [
    "data05 = pd.read_stata(\"../original_data/vp.dta\")\n",
    "data06 = pd.read_stata(\"../original_data/wp.dta\")\n",
    "data07 = pd.read_stata(\"../original_data/xp.dta\")\n",
    "data08 = pd.read_stata(\"../original_data/yp.dta\")\n",
    "data09 = pd.read_stata(\"../original_data/zp.dta\")\n",
    "data10 = pd.read_stata(\"../original_data/bap.dta\")\n",
    "data11 = pd.read_stata(\"../original_data/bbp.dta\")\n",
    "data12 = pd.read_stata(\"../original_data/bcp.dta\")\n",
    "data13 = pd.read_stata(\"../original_data/bdp.dta\")\n",
    "data14 = pd.read_stata(\"../original_data/bep.dta\")\n",
    "data15 = pd.read_stata(\"../original_data/bfp.dta\")\n",
    "control_05 = pd.read_csv(\"../clean_data/control_05.csv\")\n",
    "control_06 = pd.read_csv(\"../clean_data/control_06.csv\")\n",
    "control_07 = pd.read_csv(\"../clean_data/control_07.csv\")\n",
    "control_08 = pd.read_csv(\"../clean_data/control_08.csv\")\n",
    "control_09 = pd.read_csv(\"../clean_data/control_09.csv\")\n",
    "control_10 = pd.read_csv(\"../clean_data/control_10.csv\")\n",
    "control_11 = pd.read_csv(\"../clean_data/control_11.csv\")\n",
    "control_12 = pd.read_csv(\"../clean_data/control_12.csv\")\n",
    "control_05 = pd.read_csv(\"../clean_data/control_13.csv\")\n",
    "control_05 = pd.read_csv(\"../clean_data/control_14.csv\")\n",
    "control_05 = pd.read_csv(\"../clean_data/control_15.csv\")\n",
    "big5 = pd.read_csv(\"../clean_data/big5.csv\")\n",
    "loc = pd.read_csv(\"../clean_data/loc.csv\")"
   ]
  },
  {
   "cell_type": "code",
   "execution_count": 3,
   "metadata": {},
   "outputs": [],
   "source": [
    "# Extract and rename personal information and employment_status\n",
    "ids2005 = data05.loc[:, ['hhnr','persnr', 'vp10']]\n",
    "ids2006 = data06.loc[:, ['hhnr','persnr', 'wp07']]\n",
    "ids2007 = data07.loc[:, ['hhnr','persnr', 'xp13']]\n",
    "ids2008 = data08.loc[:, ['hhnr','persnr', 'yp19']]\n",
    "ids2009 = data09.loc[:, ['hhnr','persnr','zp09']]\n",
    "ids2010 = data10.loc[:, ['hhnr','persnr','bap09']]\n",
    "ids2011 = data11.loc[:, ['hhnr','persnr','bbp09']]\n",
    "ids2012 = data12.loc[:, ['hhnr','persnr', 'bcp11']]\n",
    "ids2013 = data13.loc[:, ['hhnr','persnr','bdp18']]\n",
    "ids2014 = data14.loc[:, ['hhnr','persnr','bep12']]\n",
    "ids2015 = data15.loc[:, ['hhnr','persnr','bfp32']]\n",
    "\n",
    "#Rename identifiers to match the other data sets.                         \n",
    "ids2005.columns = ['cid','pid','employment_05']\n",
    "ids2006.columns = ['cid','pid','employment_06']\n",
    "ids2007.columns = ['cid','pid','employment_07'] \n",
    "ids2008.columns = ['cid','pid','employment_08']\n",
    "ids2009.columns = ['cid','pid','employment_09']\n",
    "ids2010.columns = ['cid','pid','employment_10'] \n",
    "ids2011.columns = ['cid','pid','employment_11']\n",
    "ids2012.columns = ['cid','pid','employment_12']\n",
    "ids2013.columns = ['cid','pid','employment_13'] \n",
    "ids2014.columns = ['cid','pid','employment_14'] \n",
    "ids2015.columns = ['cid','pid','employment_15'] "
   ]
  },
  {
   "cell_type": "code",
   "execution_count": 4,
   "metadata": {},
   "outputs": [],
   "source": [
    "# Merge df on cid pid.\n",
    "data_frames = [ids2005, ids2006, ids2007, ids2008, ids2009, ids2010, ids2011, ids2012, ids2013, ids2014, ids2015]\n",
    "employment = reduce(lambda  left,right: pd.merge(left,right,on=['cid', 'pid'],\n",
    "                                            how='outer'), data_frames)\n"
   ]
  },
  {
   "cell_type": "code",
   "execution_count": 4,
   "metadata": {},
   "outputs": [],
   "source": [
    "# Replace all irrelevant data into pd.np.nan and replace string into number.\n",
    "dict_n = {'[1] Voll erwerbstaetig': 0, '[2] Teilzeitbeschaeftigung': 0, '[3] Ausbildung,Lehre' : pd.np.nan, '[4] Geringfuegig beschaeftigt':0,\n",
    "         '[5] Altersteilzeit mit Arbeitszeit Null': pd.np.nan, '[6] Wehrdienst': pd.np.nan, '[7] Zivildienst': pd.np.nan, \n",
    "          '[8] Werkstatt fuer behinderte Menschen': pd.np.nan, '[9] Nicht erwerbstaetig': 1,\n",
    "         '[7] Freiwsoziales/oekol.Jahr, Bundesfreiwilligendienst': pd.np.nan, '[6] Freiwilliger Wehrdienst': pd.np.nan}\n",
    "\n",
    "employment_clean = employment.replace(dict_n)"
   ]
  },
  {
   "cell_type": "code",
   "execution_count": 7,
   "metadata": {},
   "outputs": [],
   "source": [
    "# Drop not suitable sample.\n",
    "employment_clean = employment_clean.dropna()"
   ]
  },
  {
   "cell_type": "code",
   "execution_count": 8,
   "metadata": {},
   "outputs": [],
   "source": [
    "# Locate sample which is employed in the first year (2005).\n",
    "employment_sample = employment_clean.loc[employment_clean['employment_05'] == 0.0] "
   ]
  },
  {
   "cell_type": "code",
   "execution_count": 9,
   "metadata": {},
   "outputs": [
    {
     "name": "stderr",
     "output_type": "stream",
     "text": [
      "/Users/marcoma1995/anaconda3/lib/python3.6/site-packages/ipykernel_launcher.py:3: SettingWithCopyWarning: \n",
      "A value is trying to be set on a copy of a slice from a DataFrame.\n",
      "Try using .loc[row_indexer,col_indexer] = value instead\n",
      "\n",
      "See the caveats in the documentation: http://pandas.pydata.org/pandas-docs/stable/indexing.html#indexing-view-versus-copy\n",
      "  This is separate from the ipykernel package so we can avoid doing imports until\n"
     ]
    }
   ],
   "source": [
    "# Create Columns describe total years of unemployment since 2005.\n",
    "\n",
    "employment_sample['total_unemployment_years'] = employment_sample.apply(lambda row: row.employment_05 + row.employment_06 + row.employment_07 + row.employment_08 + row.employment_09 + row.employment_10 + row.employment_11 + row.employment_12 + row.employment_13, axis=1)"
   ]
  },
  {
   "cell_type": "code",
   "execution_count": 10,
   "metadata": {},
   "outputs": [
    {
     "name": "stderr",
     "output_type": "stream",
     "text": [
      "/Users/marcoma1995/anaconda3/lib/python3.6/site-packages/ipykernel_launcher.py:3: SettingWithCopyWarning: \n",
      "A value is trying to be set on a copy of a slice from a DataFrame.\n",
      "Try using .loc[row_indexer,col_indexer] = value instead\n",
      "\n",
      "See the caveats in the documentation: http://pandas.pydata.org/pandas-docs/stable/indexing.html#indexing-view-versus-copy\n",
      "  This is separate from the ipykernel package so we can avoid doing imports until\n"
     ]
    }
   ],
   "source": [
    "# Create Columns describe total years of unemployment since 2005.\n",
    "\n",
    "employment_sample['total_unemployment_years_square'] = np.square(employment_sample['total_unemployment_years'])"
   ]
  },
  {
   "cell_type": "code",
   "execution_count": 11,
   "metadata": {},
   "outputs": [
    {
     "name": "stderr",
     "output_type": "stream",
     "text": [
      "/Users/marcoma1995/anaconda3/lib/python3.6/site-packages/ipykernel_launcher.py:3: SettingWithCopyWarning: \n",
      "A value is trying to be set on a copy of a slice from a DataFrame.\n",
      "Try using .loc[row_indexer,col_indexer] = value instead\n",
      "\n",
      "See the caveats in the documentation: http://pandas.pydata.org/pandas-docs/stable/indexing.html#indexing-view-versus-copy\n",
      "  This is separate from the ipykernel package so we can avoid doing imports until\n"
     ]
    }
   ],
   "source": [
    "# Select sample which are unemployed for 1 to 8 years during the 8 years period.\n",
    "unemployment_sample = employment_sample.loc[employment_sample['total_unemployment_years'] > 0.0] \n",
    "unemployment_sample['employment_status'] = 1 "
   ]
  },
  {
   "cell_type": "code",
   "execution_count": 12,
   "metadata": {},
   "outputs": [],
   "source": [
    "# Select sample which re-employ by some-company in the last year (2013).\n",
    "re_employment_sample = unemployment_sample.loc[unemployment_sample['employment_13'] < 1.0] "
   ]
  },
  {
   "cell_type": "code",
   "execution_count": 13,
   "metadata": {},
   "outputs": [
    {
     "name": "stderr",
     "output_type": "stream",
     "text": [
      "/Users/marcoma1995/anaconda3/lib/python3.6/site-packages/ipykernel_launcher.py:3: SettingWithCopyWarning: \n",
      "A value is trying to be set on a copy of a slice from a DataFrame.\n",
      "Try using .loc[row_indexer,col_indexer] = value instead\n",
      "\n",
      "See the caveats in the documentation: http://pandas.pydata.org/pandas-docs/stable/indexing.html#indexing-view-versus-copy\n",
      "  This is separate from the ipykernel package so we can avoid doing imports until\n"
     ]
    }
   ],
   "source": [
    "# Select sample which never unemploy by\n",
    "full_employment_sample = employment_sample.loc[employment_sample['total_unemployment_years'] < 1.0] \n",
    "full_employment_sample['employment_status'] = 0"
   ]
  },
  {
   "cell_type": "code",
   "execution_count": 14,
   "metadata": {},
   "outputs": [],
   "source": [
    "employment_sample = pd.concat([full_employment_sample, unemployment_sample], ignore_index=True)"
   ]
  },
  {
   "cell_type": "code",
   "execution_count": 15,
   "metadata": {},
   "outputs": [],
   "source": [
    "# Merge the data.\n",
    "employment_sample = employment_sample.merge(trait, on = ['cid','pid'],how = 'left')\n",
    "unemployment_sample = unemployment_sample.merge(trait, on = ['cid','pid'],how = 'left')\n",
    "re_employment_sample = re_employment_sample.merge(trait, on = ['cid','pid'],how = 'left')\n",
    "full_employment_sample = full_employment_sample.merge(trait, on = ['cid','pid'],how = 'left')\n",
    "\n",
    "employment_sample = employment_sample.merge(control, on = ['cid','pid'],how = 'left')\n",
    "unemployment_sample = unemployment_sample.merge(control, on = ['cid','pid'],how = 'left')\n",
    "re_employment_sample = re_employment_sample.merge(control, on = ['cid','pid'],how = 'left')\n",
    "full_employment_sample = full_employment_sample.merge(control, on = ['cid','pid'],how = 'left')"
   ]
  },
  {
   "cell_type": "code",
   "execution_count": 16,
   "metadata": {},
   "outputs": [],
   "source": [
    "employment_sample = employment_sample.dropna()\n",
    "unemployment_sample = unemployment_sample.dropna()\n",
    "re_employment_sample = re_employment_sample.dropna()\n",
    "full_employment_sample = full_employment_sample.dropna()"
   ]
  },
  {
   "cell_type": "code",
   "execution_count": 17,
   "metadata": {},
   "outputs": [],
   "source": [
    "# Output the data.\n",
    "employment_sample.to_csv(\"../clean_data/employ_sample.csv\")\n",
    "unemployment_sample.to_csv(\"../clean_data/unemployment_sample.csv\")\n",
    "re_employment_sample.to_csv(\"../clean_data/re_employment_sample.csv\")\n",
    "full_employment_sample.to_csv(\"../clean_data/full_employ_sample.csv\")"
   ]
  }
 ],
 "metadata": {
  "kernelspec": {
   "display_name": "Python 3",
   "language": "python",
   "name": "python3"
  },
  "language_info": {
   "codemirror_mode": {
    "name": "ipython",
    "version": 3
   },
   "file_extension": ".py",
   "mimetype": "text/x-python",
   "name": "python",
   "nbconvert_exporter": "python",
   "pygments_lexer": "ipython3",
   "version": "3.6.7"
  }
 },
 "nbformat": 4,
 "nbformat_minor": 2
}
