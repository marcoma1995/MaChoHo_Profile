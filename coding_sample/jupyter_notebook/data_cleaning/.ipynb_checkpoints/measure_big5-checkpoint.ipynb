{
 "cells": [
  {
   "cell_type": "code",
   "execution_count": 1,
   "metadata": {},
   "outputs": [],
   "source": [
    "import pandas as pd"
   ]
  },
  {
   "cell_type": "code",
   "execution_count": 2,
   "metadata": {},
   "outputs": [],
   "source": [
    "data05 = pd.read_stata(\"../original_data/vp.dta\")\n",
    "data09 = pd.read_stata(\"../original_data/zp.dta\")\n",
    "data13 = pd.read_stata(\"../original_data/bdp.dta\")"
   ]
  },
  {
   "cell_type": "code",
   "execution_count": 3,
   "metadata": {},
   "outputs": [],
   "source": [
    "# Extract Column of Big 5 Variables we need for the research.\n",
    "data_05 = data05.loc[:, 'vp12501':'vp12515']\n",
    "data_09 = data09.loc[:, 'zp12001':'zp12015']\n",
    "data_13 = data13.loc[:, 'bdp15101':'bdp15115']"
   ]
  },
  {
   "cell_type": "code",
   "execution_count": 4,
   "metadata": {},
   "outputs": [],
   "source": [
    "# Rename to meaningful names.\n",
    "for x in [data_05, data_09, data_13]:\n",
    "    x.columns =  ['work_carefully','communicative','abrasive', 'new_idea','often_worry',\n",
    "                       'forgiving_nature','lazy','outgoing','esthetics','often_nervous','work_efficiently',\n",
    "                           'reserved','considerate','lively_imagination','be_relaxed']\n"
   ]
  },
  {
   "cell_type": "code",
   "execution_count": 5,
   "metadata": {},
   "outputs": [],
   "source": [
    "# Extract and rename personal information.\n",
    "ids2005 = data05.loc[:, ['hhnr','persnr','welle','vp14701','vp14702','vp135']]\n",
    "ids2009 = data09.loc[:, ['hhnr','persnr','welle','zp12901','zp12902','zp137']]\n",
    "ids2013 = data13.loc[:, ['hhnr','persnr','welle','bdp13401','bdp13403','bdp143']]\n",
    "\n",
    "#Rename identifiers to match the other data sets.                         \n",
    "ids2005.columns = ['cid','pid','syear','sex_2005','birth_year_2005','german_nationality_2005']\n",
    "ids2009.columns = ['cid','pid','syear','sex_2009','birth_year_2009','german_nationality_2009']\n",
    "ids2013.columns = ['cid','pid','syear','sex_2013','birth_year_2013','german_nationality_2013'] "
   ]
  },
  {
   "cell_type": "code",
   "execution_count": 6,
   "metadata": {},
   "outputs": [],
   "source": [
    "# Merge it.\n",
    "data_2005 = pd.concat([ids2005, data_05], axis=1)\n",
    "data_2009 = pd.concat([ids2009, data_09], axis=1)\n",
    "data_2013 = pd.concat([ids2013, data_13], axis=1)"
   ]
  },
  {
   "cell_type": "code",
   "execution_count": 7,
   "metadata": {},
   "outputs": [],
   "source": [
    "#Replace all negative number into pd.np.nan and replace string into number.\n",
    "dict_n = {'[-1] keine Angabe': pd.np.nan, '[7] Trifft voll zu': 7, '[1] Trifft ueberhaupt nicht zu' : 1, '[7] 7 stimme voll zu, (Skala 1-7)':7,\n",
    "         '[6] 6 auf Skala 1-7':6, '[5] 5 auf Skala 1-7':5, '[4] 4 auf Skala 1-7':4, '[3] 3 auf Skala 1-7':3, '[2] 2 auf Skala 1-7':2\n",
    "          ,'[1] 1 stimme ueberhaupt nicht zu, (Skala 1-7':1,'[1] Ja':1, '[2] Nein':0, '[-5] In Fragebogenversion nicht enthalten':pd.np.nan}\n",
    "\n",
    "data_05_nan = data_2005.replace(dict_n)\n",
    "data_09_nan = data_2009.replace(dict_n)\n",
    "data_13_nan = data_2013.replace(dict_n)"
   ]
  },
  {
   "cell_type": "code",
   "execution_count": 8,
   "metadata": {},
   "outputs": [],
   "source": [
    "#Reserves the scale for 'Negative' items.\n",
    "#Create list of 'Negavie' items and dictionary for things I want to replace.\n",
    "#Create a dict of number I want to replace\n",
    "#Replace the number by creating new DataFrame and update\n",
    "\n",
    "dict_r = {1:7, 7:1, 2:6, 6:2, 3:5, 5:3}\n",
    "negative = ['lazy','abrasive','reserved','be_relaxed']\n",
    "\n",
    "reverse_05 = data_05_nan.loc[:,negative].replace(dict_r)\n",
    "reverse_09 = data_09_nan.loc[:,negative].replace(dict_r)\n",
    "reverse_13 = data_13_nan.loc[:,negative].replace(dict_r)\n",
    "\n",
    "a = [data_05_nan, data_09_nan, data_13_nan]\n",
    "b = [reverse_05, reverse_09, reverse_13]\n",
    "\n",
    "for x,y in zip(a,b): \n",
    "    x.update(y)\n"
   ]
  },
  {
   "cell_type": "code",
   "execution_count": 9,
   "metadata": {},
   "outputs": [],
   "source": [
    "# Create list of variable corresond to Big 5.\n",
    "openness_ls = ['lively_imagination', 'new_idea', 'esthetics']\n",
    "conscientiousness_ls = ['lazy', 'work_efficiently', 'work_carefully']\n",
    "extraversion_ls = ['reserved', 'work_efficiently', 'work_carefully']\n",
    "agreeableness_ls = ['forgiving_nature', 'considerate', 'abrasive']\n",
    "neuroticism_ls = ['often_worry', 'often_nervous', 'be_relaxed']\n"
   ]
  },
  {
   "cell_type": "code",
   "execution_count": 10,
   "metadata": {},
   "outputs": [],
   "source": [
    "# Create list of coloumns we want to create.\n",
    "trait_ls = [neuroticism_ls, agreeableness_ls, extraversion_ls, conscientiousness_ls, openness_ls]\n",
    "trait = ['neuroticism', 'agreeableness', 'extraversion', 'conscientiousness', 'openness']"
   ]
  },
  {
   "cell_type": "code",
   "execution_count": 11,
   "metadata": {},
   "outputs": [],
   "source": [
    "# Define a loop for creating the measure.\n",
    "for x,y in zip(trait, trait_ls):\n",
    "    data_05_nan[x] = data_05_nan[y].mean(1)\n",
    "    data_09_nan[x] = data_09_nan[y].mean(1)\n",
    "    data_13_nan[x] = data_13_nan[y].mean(1)"
   ]
  },
  {
   "cell_type": "code",
   "execution_count": 12,
   "metadata": {},
   "outputs": [],
   "source": [
    "# Create function for standardising the data.\n",
    "standardise = lambda x: (x - x.mean()) / x.std()\n",
    "\n",
    "# Standardise all the measure and create as dataframe.\n",
    "trait_05 = data_05_nan[trait].pipe(standardise)\n",
    "trait_09 = data_09_nan[trait].pipe(standardise)\n",
    "trait_13 = data_13_nan[trait].pipe(standardise)"
   ]
  },
  {
   "cell_type": "code",
   "execution_count": 13,
   "metadata": {},
   "outputs": [],
   "source": [
    "data_05 = data_05_nan[['cid', 'pid', 'syear', 'neuroticism', 'agreeableness', 'extraversion', 'conscientiousness', 'openness']]\n",
    "data_09 = data_09_nan[['cid', 'pid', 'syear', 'neuroticism', 'agreeableness', 'extraversion', 'conscientiousness', 'openness']]\n",
    "data_13 = data_13_nan[['cid', 'pid', 'syear', 'neuroticism', 'agreeableness', 'extraversion', 'conscientiousness', 'openness']]"
   ]
  },
  {
   "cell_type": "code",
   "execution_count": 14,
   "metadata": {},
   "outputs": [],
   "source": [
    "# Rename columns to seperate data from time to time.\n",
    "data_05.columns = ['cid','pid','syear_05', 'neuroticism_05', 'agreeableness_05', 'extraversion_05', 'conscientiousness_05', 'openness_05' ]\n",
    "data_09.columns = ['cid','pid','syear_09', 'neuroticism_09', 'agreeableness_09', 'extraversion_09', 'conscientiousness_09', 'openness_09' ]\n",
    "data_13.columns = ['cid','pid','syear_13', 'neuroticism_13', 'agreeableness_13', 'extraversion_13', 'conscientiousness_13', 'openness_13' ]"
   ]
  },
  {
   "cell_type": "code",
   "execution_count": 15,
   "metadata": {},
   "outputs": [],
   "source": [
    "# Merge the data set before standardise.\n",
    "trait_not_sd = data_05.merge(data_09, on = ['cid','pid'],how = 'left')\n",
    "trait_not_sd = trait_not_sd.merge(data_13, on = ['cid','pid'],how = 'left')"
   ]
  },
  {
   "cell_type": "code",
   "execution_count": 16,
   "metadata": {},
   "outputs": [],
   "source": [
    "trait_not_sd = trait_not_sd.dropna()"
   ]
  },
  {
   "cell_type": "code",
   "execution_count": 17,
   "metadata": {},
   "outputs": [],
   "source": [
    "# Merge the measure with id.\n",
    "\n",
    "measures_05 = pd.concat([ids2005, trait_05], axis=1)\n",
    "measures_09 = pd.concat([ids2009, trait_09], axis=1)\n",
    "measures_13 = pd.concat([ids2013, trait_13], axis=1)"
   ]
  },
  {
   "cell_type": "code",
   "execution_count": 18,
   "metadata": {},
   "outputs": [],
   "source": [
    "# Rename columns to seperate data from time to time.\n",
    "measures_05.columns = ['cid','pid','syear_05','sex','birth_year','german_nationality_05', 'neuroticism_05', 'agreeableness_05', 'extraversion_05', 'conscientiousness_05', 'openness_05' ]\n",
    "measures_09.columns = ['cid','pid','syear_09','sex','birth_year','german_nationality_09', 'neuroticism_09', 'agreeableness_09', 'extraversion_09', 'conscientiousness_09', 'openness_09' ]\n",
    "measures_13.columns = ['cid','pid','syear_13','sex','birth_year','german_nationality_13', 'neuroticism_13', 'agreeableness_13', 'extraversion_13', 'conscientiousness_13', 'openness_13' ]"
   ]
  },
  {
   "cell_type": "code",
   "execution_count": 19,
   "metadata": {},
   "outputs": [],
   "source": [
    "# Merge into one big dataset.\n",
    "trait = measures_05.merge(measures_09, on = ['cid','pid','birth_year', 'sex'],how = 'left')\n",
    "trait = trait.merge(measures_13, on = ['cid','pid','birth_year', 'sex'],how = 'left')"
   ]
  },
  {
   "cell_type": "code",
   "execution_count": 20,
   "metadata": {},
   "outputs": [],
   "source": [
    "# Drop missing variable.\n",
    "trait = trait.dropna()\n",
    "trait = trait.drop(['syear_05','syear_09','syear_13', 'birth_year', 'german_nationality_05', 'german_nationality_09', 'german_nationality_13', 'sex'], axis=1)"
   ]
  },
  {
   "cell_type": "code",
   "execution_count": 21,
   "metadata": {},
   "outputs": [],
   "source": [
    "# Define personality trait as average of 05, 09, 13 to check the impact of personality on unemployment.\n",
    "\n",
    "openness = ['openness_05', 'openness_09', 'openness_13']\n",
    "neuroticism = ['neuroticism_05', 'neuroticism_09', 'neuroticism_13']\n",
    "agreeableness = ['agreeableness_05', 'agreeableness_09', 'agreeableness_13']\n",
    "extraversion = ['extraversion_05', 'extraversion_09', 'extraversion_13']\n",
    "conscientiousness = ['conscientiousness_05', 'conscientiousness_09', 'conscientiousness_13']\n",
    "\n",
    "i= [neuroticism, agreeableness, extraversion, conscientiousness, openness]\n",
    "j = ['neuroticism', 'agreeableness', 'extraversion', 'conscientiousness', 'openness']\n",
    "l = ['neuroticism_05_09', 'agreeableness_05_09', 'extraversion_05_09', 'conscientiousness_05_09', 'openness_05_09']\n",
    "m = ['neuroticism_09_13', 'agreeableness_09_13', 'extraversion_09_13', 'conscientiousness_09_13', 'openness_09_13']\n",
    "t_05 = ['neuroticism_05', 'agreeableness_05', 'extraversion_05', 'conscientiousness_05', 'openness_05']\n",
    "t_09 = ['neuroticism_09', 'agreeableness_09', 'extraversion_09', 'conscientiousness_09', 'openness_09']\n",
    "t_13 = ['neuroticism_13', 'agreeableness_13', 'extraversion_13', 'conscientiousness_13', 'openness_13']\n",
    "\n",
    "for x,y in zip(j,i):\n",
    "    trait[x] = trait[y].mean(1)\n",
    "\n",
    "for x,y,z in zip(l, t_05, t_09):\n",
    "    trait_not_sd[x] = trait_not_sd[y] - trait_not_sd[z]\n",
    "\n",
    "for x,y,z in zip(m, t_09, t_13):\n",
    "    trait_not_sd[x] = trait_not_sd[y] - trait_not_sd[z]"
   ]
  },
  {
   "cell_type": "code",
   "execution_count": 22,
   "metadata": {},
   "outputs": [],
   "source": [
    "trait_not_sd = trait_not_sd[['cid', 'pid', 'neuroticism_05_09', 'agreeableness_05_09', 'extraversion_05_09', 'conscientiousness_05_09', 'openness_05_09', 'neuroticism_09_13', 'agreeableness_09_13', 'extraversion_09_13', 'conscientiousness_09_13', 'openness_09_13']]"
   ]
  },
  {
   "cell_type": "code",
   "execution_count": 28,
   "metadata": {},
   "outputs": [],
   "source": [
    "trait = trait.merge(trait_not_sd, on = ['cid','pid'],how = 'left')\n",
    "big_five_mean_diff = trait.describe()"
   ]
  },
  {
   "cell_type": "code",
   "execution_count": 29,
   "metadata": {},
   "outputs": [],
   "source": [
    "trait.to_csv(\"../clean_data/big5.csv\")\n",
    "big_five_mean_diff.to_csv(\"../clean_data/big5_mean_diff.csv\")"
   ]
  }
 ],
 "metadata": {
  "kernelspec": {
   "display_name": "Python 3",
   "language": "python",
   "name": "python3"
  },
  "language_info": {
   "codemirror_mode": {
    "name": "ipython",
    "version": 3
   },
   "file_extension": ".py",
   "mimetype": "text/x-python",
   "name": "python",
   "nbconvert_exporter": "python",
   "pygments_lexer": "ipython3",
   "version": "3.6.7"
  }
 },
 "nbformat": 4,
 "nbformat_minor": 2
}
