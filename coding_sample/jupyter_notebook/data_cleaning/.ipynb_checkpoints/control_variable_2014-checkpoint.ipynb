{
 "cells": [
  {
   "cell_type": "code",
   "execution_count": 1,
   "metadata": {},
   "outputs": [],
   "source": [
    "import pandas as pd\n",
    "import numpy as np"
   ]
  },
  {
   "cell_type": "code",
   "execution_count": 2,
   "metadata": {},
   "outputs": [],
   "source": [
    "data = pd.read_stata(\"../original_data/bep.dta\")\n",
    "school = pd.read_stata(\"../original_data/bepequiv.dta\")"
   ]
  },
  {
   "cell_type": "code",
   "execution_count": 3,
   "metadata": {},
   "outputs": [],
   "source": [
    "# Extract and rename personal information\n",
    "schooling = school.loc[:, ['hhnr','persnr','d1110914', 'd1110714']]\n",
    "schooling.columns = ['cid', 'pid', 'years_schooling', 'children']"
   ]
  },
  {
   "cell_type": "code",
   "execution_count": 4,
   "metadata": {},
   "outputs": [],
   "source": [
    "# Extract and rename personal information\n",
    "data = data.loc[:, ['hhnr','persnr','bep12601', 'bep0105', 'bep12603', 'bep127', 'bep129', 'bep89']]\n",
    "data.columns = ['cid','pid','sex', 'hh_income_satisfaction', 'year_of_birth', 'marital_status', 'german_nationality', 'health_status']\n",
    "data = data.merge(schooling, on = ['cid','pid'],how = 'left')"
   ]
  },
  {
   "cell_type": "code",
   "execution_count": 5,
   "metadata": {},
   "outputs": [],
   "source": [
    "data['age'] = 2014 - data['year_of_birth']"
   ]
  },
  {
   "cell_type": "code",
   "execution_count": 6,
   "metadata": {},
   "outputs": [],
   "source": [
    "data['age_sqr'] = np.square(data['age'])"
   ]
  },
  {
   "cell_type": "code",
   "execution_count": 7,
   "metadata": {},
   "outputs": [],
   "source": [
    "#Replace all negative number into pd.np.nan and replace string into number.\n",
    "dict_n = {'[-1] keine Angabe': pd.np.nan, '[1] Ja':1, '[2] Nein':0, '[1] Verheiratet, zusammenlebend' :1, '[2] Verheiratet, getrenntlebend':1,\n",
    "         '[3] Ledig': 0, '[4] Geschieden':0, '[5] Verwitwet':0, '[0] 0 Zufrieden: Skala 0-Niedrig bis 10-Hoch':0, '[1] 1 Zufrieden: Skala 0-Niedrig bis 10-Hoch':1,\n",
    "         '[2] 2 Zufrieden: Skala 0-Niedrig bis 10-Hoch':2, '[3] 3 Zufrieden: Skala 0-Niedrig bis 10-Hoch':3, '[4] 4 Zufrieden: Skala 0-Niedrig bis 10-Hoch':4,\n",
    "         '[5] 5 Zufrieden: Skala 0-Niedrig bis 10-Hoch':5, '[6] 6 Zufrieden: Skala 0-Niedrig bis 10-Hoch':6, '[7] 7 Zufrieden: Skala 0-Niedrig bis 10-Hoch':7,\n",
    "         '[8] 8 Zufrieden: Skala 0-Niedrig bis 10-Hoch':8, '[9] 9 Zufrieden: Skala 0-Niedrig bis 10-Hoch':9, '[10] 10 Zufrieden: Skala 0-Niedrig bis 10-Hoc':10,\n",
    "         '[1] Maennlich':1, '[2] Weiblich':0, -1: pd.np.nan, -2:pd.np.nan, '[1] Sehr gut':0, '[2] Gut':0, '[3] Zufriedenstellend':0, '[4] Weniger gut':1, '[5] Schlecht':1,\n",
    "         '[-5] In Fragebogenversion nicht enthalten':pd.np.nan, -5:pd.np.nan, '[4] Geschieden, eingetragene Partnerschaft aufgehoben':0, '[5] Verwitwet, Lebenspartner/in verstorben':0,\n",
    "         '[6] Eingetragene Partnerschaft, zusammenlebend':1, '[5] Verwitwet, Lebenspartner(in) verstorben':0, '[10] 10 Zufrieden: Skala 0-Niedrig bis 10-Hoch':10, \n",
    "          '[4] Geschieden, eing. gleichg. Partn. aufgehoben':0, '[6] Eing. gleichg. Partn., zusammenlebend':1, '[7] Eing. gleichg. Partn., getrenntlebend':1 }\n",
    "\n",
    "dataset = data.replace(dict_n)"
   ]
  },
  {
   "cell_type": "code",
   "execution_count": 8,
   "metadata": {},
   "outputs": [],
   "source": [
    "dataset = dataset.dropna()"
   ]
  },
  {
   "cell_type": "code",
   "execution_count": 9,
   "metadata": {},
   "outputs": [],
   "source": [
    "dataset.to_csv(\"../clean_data/control_14.csv\")"
   ]
  }
 ],
 "metadata": {
  "kernelspec": {
   "display_name": "Python 3",
   "language": "python",
   "name": "python3"
  },
  "language_info": {
   "codemirror_mode": {
    "name": "ipython",
    "version": 3
   },
   "file_extension": ".py",
   "mimetype": "text/x-python",
   "name": "python",
   "nbconvert_exporter": "python",
   "pygments_lexer": "ipython3",
   "version": "3.6.7"
  }
 },
 "nbformat": 4,
 "nbformat_minor": 2
}
