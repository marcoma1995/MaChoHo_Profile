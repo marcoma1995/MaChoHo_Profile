{
 "cells": [
  {
   "cell_type": "code",
   "execution_count": 1,
   "metadata": {},
   "outputs": [],
   "source": [
    "import pandas as pd\n",
    "import numpy as np\n",
    "from functools import reduce"
   ]
  },
  {
   "cell_type": "code",
   "execution_count": 2,
   "metadata": {},
   "outputs": [],
   "source": [
    "data05 = pd.read_stata(\"../original_data/vp.dta\")\n",
    "data06 = pd.read_stata(\"../original_data/wp.dta\")\n",
    "data07 = pd.read_stata(\"../original_data/xp.dta\")\n",
    "data08 = pd.read_stata(\"../original_data/yp.dta\")\n",
    "data09 = pd.read_stata(\"../original_data/zp.dta\")\n",
    "data10 = pd.read_stata(\"../original_data/bap.dta\")\n",
    "data11 = pd.read_stata(\"../original_data/bbp.dta\")\n",
    "data12 = pd.read_stata(\"../original_data/bcp.dta\")\n",
    "data13 = pd.read_stata(\"../original_data/bdp.dta\")\n",
    "data14 = pd.read_stata(\"../original_data/bep.dta\")\n",
    "data15 = pd.read_stata(\"../original_data/bfp.dta\")\n",
    "control_05 = pd.read_csv(\"../clean_data/control_05.csv\", index_col=[0])\n",
    "control_06 = pd.read_csv(\"../clean_data/control_06.csv\", index_col=[0])\n",
    "control_07 = pd.read_csv(\"../clean_data/control_07.csv\", index_col=[0])\n",
    "control_08 = pd.read_csv(\"../clean_data/control_08.csv\", index_col=[0])\n",
    "control_09 = pd.read_csv(\"../clean_data/control_09.csv\", index_col=[0])\n",
    "control_10 = pd.read_csv(\"../clean_data/control_10.csv\", index_col=[0])\n",
    "control_11 = pd.read_csv(\"../clean_data/control_11.csv\", index_col=[0])\n",
    "control_12 = pd.read_csv(\"../clean_data/control_12.csv\", index_col=[0])\n",
    "control_13 = pd.read_csv(\"../clean_data/control_13.csv\", index_col=[0])\n",
    "control_14 = pd.read_csv(\"../clean_data/control_14.csv\", index_col=[0])\n",
    "control_15 = pd.read_csv(\"../clean_data/control_15.csv\", index_col=[0])\n",
    "big5 = pd.read_csv(\"../clean_data/big5.csv\", index_col=[0])\n",
    "loc = pd.read_csv(\"../clean_data/loc.csv\", index_col=[0])"
   ]
  },
  {
   "cell_type": "code",
   "execution_count": 3,
   "metadata": {},
   "outputs": [],
   "source": [
    "# Extract and rename personal information and employment_status\n",
    "ids2005 = data05.loc[:, ['hhnr','persnr', 'vp10']]\n",
    "ids2006 = data06.loc[:, ['hhnr','persnr', 'wp07']]\n",
    "ids2007 = data07.loc[:, ['hhnr','persnr', 'xp13']]\n",
    "ids2008 = data08.loc[:, ['hhnr','persnr', 'yp19']]\n",
    "ids2009 = data09.loc[:, ['hhnr','persnr','zp09']]\n",
    "ids2010 = data10.loc[:, ['hhnr','persnr','bap09']]\n",
    "ids2011 = data11.loc[:, ['hhnr','persnr','bbp09']]\n",
    "ids2012 = data12.loc[:, ['hhnr','persnr', 'bcp11']]\n",
    "ids2013 = data13.loc[:, ['hhnr','persnr','bdp18']]\n",
    "ids2014 = data14.loc[:, ['hhnr','persnr','bep12']]\n",
    "ids2015 = data15.loc[:, ['hhnr','persnr','bfp32']]\n",
    "\n",
    "#Rename identifiers to match the other data sets.                         \n",
    "ids2005.columns = ['cid','pid','employment_05']\n",
    "ids2006.columns = ['cid','pid','employment_06']\n",
    "ids2007.columns = ['cid','pid','employment_07'] \n",
    "ids2008.columns = ['cid','pid','employment_08']\n",
    "ids2009.columns = ['cid','pid','employment_09']\n",
    "ids2010.columns = ['cid','pid','employment_10'] \n",
    "ids2011.columns = ['cid','pid','employment_11']\n",
    "ids2012.columns = ['cid','pid','employment_12']\n",
    "ids2013.columns = ['cid','pid','employment_13'] \n",
    "ids2014.columns = ['cid','pid','employment_14'] \n",
    "ids2015.columns = ['cid','pid','employment_15'] "
   ]
  },
  {
   "cell_type": "code",
   "execution_count": 4,
   "metadata": {},
   "outputs": [],
   "source": [
    "# Replace all irrelevant data into pd.np.nan and replace string into number.\n",
    "dict_n = {'[1] Voll erwerbstaetig': 0, '[2] Teilzeitbeschaeftigung': 0, '[3] Ausbildung,Lehre' : pd.np.nan, '[4] Geringfuegig beschaeftigt':0,\n",
    "         '[5] Altersteilzeit mit Arbeitszeit Null': pd.np.nan, '[6] Wehrdienst': pd.np.nan, '[7] Zivildienst': pd.np.nan, \n",
    "          '[8] Werkstatt fuer behinderte Menschen': pd.np.nan, '[9] Nicht erwerbstaetig': 1,\n",
    "         '[7] Freiwsoziales/oekol.Jahr, Bundesfreiwilligendienst': pd.np.nan, '[6] Freiwilliger Wehrdienst': pd.np.nan}\n",
    "\n",
    "employment_05 = ids2005.replace(dict_n)\n",
    "employment_06 = ids2006.replace(dict_n)\n",
    "employment_07 = ids2007.replace(dict_n)\n",
    "employment_08 = ids2008.replace(dict_n)\n",
    "employment_09 = ids2009.replace(dict_n)\n",
    "employment_10 = ids2010.replace(dict_n)\n",
    "employment_11 = ids2011.replace(dict_n)\n",
    "employment_12 = ids2012.replace(dict_n)\n",
    "employment_13 = ids2013.replace(dict_n)\n",
    "employment_14 = ids2014.replace(dict_n)\n",
    "employment_15 = ids2015.replace(dict_n)"
   ]
  },
  {
   "cell_type": "code",
   "execution_count": 5,
   "metadata": {},
   "outputs": [],
   "source": [
    "data_05 = employment_05.merge(control_05, on = ['cid','pid'],how = 'left')\n",
    "data_06 = employment_06.merge(control_06, on = ['cid','pid'],how = 'left')\n",
    "data_07 = employment_07.merge(control_07, on = ['cid','pid'],how = 'left')\n",
    "data_08 = employment_08.merge(control_08, on = ['cid','pid'],how = 'left')\n",
    "data_09 = employment_09.merge(control_09, on = ['cid','pid'],how = 'left')\n",
    "data_10 = employment_10.merge(control_10, on = ['cid','pid'],how = 'left')\n",
    "data_11 = employment_11.merge(control_11, on = ['cid','pid'],how = 'left')\n",
    "data_12 = employment_12.merge(control_12, on = ['cid','pid'],how = 'left')\n",
    "data_13 = employment_13.merge(control_13, on = ['cid','pid'],how = 'left')\n",
    "data_14 = employment_14.merge(control_14, on = ['cid','pid'],how = 'left')\n",
    "data_15 = employment_15.merge(control_15, on = ['cid','pid'],how = 'left')"
   ]
  },
  {
   "cell_type": "code",
   "execution_count": 6,
   "metadata": {},
   "outputs": [],
   "source": [
    "data_05.columns = ['cid', 'pid', 'employment_05', 'sex_05', 'hh_income_satisfaction_05',\n",
    "       'year_of_birth_05', 'marital_status_05', 'german_nationality_05',\n",
    "       'health_status_05', 'years_schooling_05', 'children_05', 'age_05', 'age_sqr_05']\n",
    "\n",
    "data_06.columns = ['cid', 'pid', 'employment_06', 'sex_06', 'hh_income_satisfaction_06',\n",
    "       'year_of_birth_06', 'marital_status_06', 'german_nationality_06',\n",
    "       'health_status_06', 'years_schooling_06', 'children_06', 'age_06', 'age_sqr_06']\n",
    "\n",
    "data_07.columns = ['cid', 'pid', 'employment_07', 'sex_07', 'hh_income_satisfaction_07',\n",
    "       'year_of_birth_07', 'marital_status_07', 'german_nationality_07',\n",
    "       'health_status_07', 'years_schooling_07', 'children_07', 'age_07', 'age_sqr_07']\n",
    "\n",
    "data_08.columns = ['cid', 'pid', 'employment_08', 'sex_08', 'hh_income_satisfaction_08',\n",
    "       'year_of_birth_08', 'marital_status_08', 'german_nationality_08',\n",
    "       'health_status_08', 'years_schooling_08', 'children_08', 'age_08', 'age_sqr_08']\n",
    "\n",
    "data_09.columns = ['cid', 'pid', 'employment_09', 'sex_09', 'hh_income_satisfaction_09',\n",
    "       'year_of_birth_09', 'marital_status_09', 'german_nationality_09',\n",
    "       'health_status_09', 'years_schooling_09', 'children_09', 'age_09', 'age_sqr_09']\n",
    "\n",
    "data_10.columns = ['cid', 'pid', 'employment_10', 'sex_10', 'hh_income_satisfaction_10',\n",
    "       'year_of_birth_10', 'marital_status_10', 'german_nationality_10',\n",
    "       'health_status_10', 'years_schooling_10', 'children_10', 'age_10', 'age_sqr_10']\n",
    "\n",
    "data_11.columns = ['cid', 'pid', 'employment_11', 'sex_11', 'hh_income_satisfaction_11',\n",
    "       'year_of_birth_11', 'marital_status_11', 'german_nationality_11',\n",
    "       'health_status_11', 'years_schooling_11', 'children_11', 'age_11', 'age_sqr_11']\n",
    "\n",
    "data_12.columns = ['cid', 'pid', 'employment_12', 'sex_12', 'hh_income_satisfaction_12',\n",
    "       'year_of_birth_12', 'marital_status_12', 'german_nationality_12',\n",
    "       'health_status_12', 'years_schooling_12', 'children_12', 'age_12', 'age_sqr_12']\n",
    "\n",
    "data_13.columns = ['cid', 'pid', 'employment_13', 'sex_13', 'hh_income_satisfaction_13',\n",
    "       'year_of_birth_13', 'marital_status_13', 'german_nationality_13',\n",
    "       'health_status_13', 'years_schooling_13', 'children_13', 'age_13', 'age_sqr_13']\n",
    "\n",
    "data_14.columns = ['cid', 'pid', 'employment_14', 'sex_14', 'hh_income_satisfaction_14',\n",
    "       'year_of_birth_14', 'marital_status_14', 'german_nationality_14',\n",
    "       'health_status_14', 'years_schooling_14', 'children_14', 'age_14', 'age_sqr_14']\n",
    "\n",
    "data_15.columns = ['cid', 'pid', 'employment_15', 'sex_15', 'hh_income_satisfaction_15',\n",
    "       'year_of_birth_15', 'marital_status_15', 'german_nationality_15',\n",
    "       'health_status_15', 'years_schooling_15', 'children_15', 'age_15', 'age_sqr_15']\n"
   ]
  },
  {
   "cell_type": "code",
   "execution_count": 7,
   "metadata": {},
   "outputs": [],
   "source": [
    "data = data_05.merge(data_06, on = ['cid','pid'],how = 'left')\n",
    "data = data.merge(data_07, on = ['cid','pid'],how = 'left')\n",
    "data = data.merge(data_08, on = ['cid','pid'],how = 'left')\n",
    "data = data.merge(data_09, on = ['cid','pid'],how = 'left')\n",
    "data = data.merge(data_10, on = ['cid','pid'],how = 'left')\n",
    "data = data.merge(data_11, on = ['cid','pid'],how = 'left')\n",
    "data = data.merge(data_12, on = ['cid','pid'],how = 'left')\n",
    "data = data.merge(data_13, on = ['cid','pid'],how = 'left')\n",
    "data = data.merge(data_14, on = ['cid','pid'],how = 'left')\n",
    "data = data.merge(data_15, on = ['cid','pid'],how = 'left')"
   ]
  },
  {
   "cell_type": "code",
   "execution_count": 8,
   "metadata": {},
   "outputs": [],
   "source": [
    "data = data.merge(big5, on = ['cid','pid'],how = 'left')\n",
    "data = data.merge(loc, on = ['cid','pid'],how = 'left')"
   ]
  },
  {
   "cell_type": "code",
   "execution_count": 9,
   "metadata": {},
   "outputs": [],
   "source": [
    "data = data.dropna()"
   ]
  },
  {
   "cell_type": "code",
   "execution_count": 10,
   "metadata": {},
   "outputs": [],
   "source": [
    "data['umemployed_last_year_06'] = np.where(data['employment_05']==1, 1.0, 0.0)\n",
    "data['umemployed_last_year_07'] = np.where(data['employment_06']==1, 1.0, 0.0)\n",
    "data['umemployed_last_year_08'] = np.where(data['employment_07']==1, 1.0, 0.0)\n",
    "data['umemployed_last_year_09'] = np.where(data['employment_08']==1, 1.0, 0.0)\n",
    "data['umemployed_last_year_10'] = np.where(data['employment_09']==1, 1.0, 0.0)\n",
    "data['umemployed_last_year_11'] = np.where(data['employment_10']==1, 1.0, 0.0)\n",
    "data['umemployed_last_year_12'] = np.where(data['employment_11']==1, 1.0, 0.0)\n",
    "data['umemployed_last_year_13'] = np.where(data['employment_12']==1, 1.0, 0.0)\n",
    "data['umemployed_last_year_14'] = np.where(data['employment_13']==1, 1.0, 0.0)\n",
    "data['umemployed_last_year_15'] = np.where(data['employment_14']==1, 1.0, 0.0)"
   ]
  },
  {
   "cell_type": "code",
   "execution_count": 11,
   "metadata": {},
   "outputs": [],
   "source": [
    "sample_06 = data.loc[:, ['cid', 'pid', 'locus_of_control_05', 'neuroticism_05', 'agreeableness_05', 'extraversion_05',\n",
    "       'conscientiousness_05', 'openness_05', 'neuroticism_05_09',\n",
    "       'agreeableness_05_09', 'extraversion_05_09', 'conscientiousness_05_09',\n",
    "       'openness_05_09', 'neuroticism_09_13', 'agreeableness_09_13',\n",
    "       'extraversion_09_13', 'conscientiousness_09_13', 'openness_09_13', 'locus_of_control_std_05', 'employment_06', 'sex_06', 'hh_income_satisfaction_06',\n",
    "       'year_of_birth_06', 'marital_status_06', 'german_nationality_06',\n",
    "       'health_status_06', 'years_schooling_06', 'children_06', 'age_06', 'age_sqr_06', 'umemployed_last_year_06']] \n",
    "\n",
    "sample_06.columns = ['cid', 'pid', 'locus_of_control', 'neuroticism', 'agreeableness',\n",
    "       'extraversion', 'conscientiousness', 'openness', 'neuroticism_05_09',\n",
    "       'agreeableness_05_09', 'extraversion_05_09', 'conscientiousness_05_09',\n",
    "       'openness_05_09', 'neuroticism_09_13', 'agreeableness_09_13',\n",
    "       'extraversion_09_13', 'conscientiousness_09_13', 'openness_09_13', 'locus_of_control_std', 'umemployed', 'sex', 'hh_income_satisfaction',\n",
    "       'year_of_birth', 'marital_status', 'german_nationality',\n",
    "       'health_status', 'years_schooling', 'children', 'age', 'age_sqr', 'umemployed_last_year']"
   ]
  },
  {
   "cell_type": "code",
   "execution_count": 12,
   "metadata": {},
   "outputs": [],
   "source": [
    "sample_07 = data.loc[:, ['cid', 'pid', 'locus_of_control_05', 'neuroticism_05', 'agreeableness_05', 'extraversion_05',\n",
    "       'conscientiousness_05', 'openness_05',  'neuroticism_05_09',\n",
    "       'agreeableness_05_09', 'extraversion_05_09', 'conscientiousness_05_09',\n",
    "       'openness_05_09', 'neuroticism_09_13', 'agreeableness_09_13',\n",
    "       'extraversion_09_13', 'conscientiousness_09_13', 'openness_09_13', 'locus_of_control_std_05', 'employment_07', 'sex_07', 'hh_income_satisfaction_07',\n",
    "       'year_of_birth_07', 'marital_status_07', 'german_nationality_07',\n",
    "       'health_status_07', 'years_schooling_07', 'children_07', 'age_07', 'age_sqr_07', 'umemployed_last_year_07']] \n",
    "\n",
    "sample_07.columns = ['cid', 'pid', 'locus_of_control', 'neuroticism', 'agreeableness',\n",
    "       'extraversion', 'conscientiousness', 'openness', 'neuroticism_05_09',\n",
    "       'agreeableness_05_09', 'extraversion_05_09', 'conscientiousness_05_09',\n",
    "       'openness_05_09', 'neuroticism_09_13', 'agreeableness_09_13',\n",
    "       'extraversion_09_13', 'conscientiousness_09_13', 'openness_09_13', 'locus_of_control_std', 'umemployed', 'sex', 'hh_income_satisfaction',\n",
    "       'year_of_birth', 'marital_status', 'german_nationality',\n",
    "       'health_status', 'years_schooling', 'children', 'age', 'age_sqr', 'umemployed_last_year']"
   ]
  },
  {
   "cell_type": "code",
   "execution_count": 13,
   "metadata": {},
   "outputs": [],
   "source": [
    "sample_08 = data.loc[:, ['cid', 'pid', 'locus_of_control_05', 'neuroticism_05',\n",
    "       'agreeableness_05', 'extraversion_05', 'conscientiousness_05',\n",
    "       'openness_05', 'neuroticism_05_09',\n",
    "       'agreeableness_05_09', 'extraversion_05_09', 'conscientiousness_05_09',\n",
    "       'openness_05_09', 'neuroticism_09_13', 'agreeableness_09_13',\n",
    "       'extraversion_09_13', 'conscientiousness_09_13', 'openness_09_13', 'locus_of_control_std_05', 'employment_08', 'sex_08', 'hh_income_satisfaction_08',\n",
    "       'year_of_birth_08', 'marital_status_08', 'german_nationality_08',\n",
    "       'health_status_08', 'years_schooling_08', 'children_08', 'age_08', 'age_sqr_08', 'umemployed_last_year_08']] \n",
    "\n",
    "\n",
    "sample_08.columns = ['cid', 'pid', 'locus_of_control', 'neuroticism', 'agreeableness',\n",
    "       'extraversion', 'conscientiousness', 'openness', 'neuroticism_05_09',\n",
    "       'agreeableness_05_09', 'extraversion_05_09', 'conscientiousness_05_09',\n",
    "       'openness_05_09', 'neuroticism_09_13', 'agreeableness_09_13',\n",
    "       'extraversion_09_13', 'conscientiousness_09_13', 'openness_09_13', 'locus_of_control_std', 'umemployed', 'sex', 'hh_income_satisfaction',\n",
    "       'year_of_birth', 'marital_status', 'german_nationality',\n",
    "       'health_status', 'years_schooling', 'children', 'age', 'age_sqr', 'umemployed_last_year']"
   ]
  },
  {
   "cell_type": "code",
   "execution_count": 14,
   "metadata": {},
   "outputs": [],
   "source": [
    "sample_09 = data.loc[:, ['cid', 'pid', 'locus_of_control_05', 'neuroticism_09',\n",
    "       'agreeableness_09', 'extraversion_09', 'conscientiousness_09',\n",
    "       'openness_09', 'neuroticism_05_09',\n",
    "       'agreeableness_05_09', 'extraversion_05_09', 'conscientiousness_05_09',\n",
    "       'openness_05_09', 'neuroticism_09_13', 'agreeableness_09_13',\n",
    "       'extraversion_09_13', 'conscientiousness_09_13', 'openness_09_13', 'locus_of_control_std_10', 'employment_09', 'sex_09', 'hh_income_satisfaction_09',\n",
    "       'year_of_birth_09', 'marital_status_09', 'german_nationality_09',\n",
    "       'health_status_09', 'years_schooling_09', 'children_09', 'age_09', 'age_sqr_09', 'umemployed_last_year_09']] \n",
    "\n",
    "\n",
    "sample_09.columns = ['cid', 'pid', 'locus_of_control', 'neuroticism', 'agreeableness',\n",
    "       'extraversion', 'conscientiousness', 'openness', 'neuroticism_05_09',\n",
    "       'agreeableness_05_09', 'extraversion_05_09', 'conscientiousness_05_09',\n",
    "       'openness_05_09', 'neuroticism_09_13', 'agreeableness_09_13',\n",
    "       'extraversion_09_13', 'conscientiousness_09_13', 'openness_09_13', 'locus_of_control_std', 'umemployed', 'sex', 'hh_income_satisfaction',\n",
    "       'year_of_birth', 'marital_status', 'german_nationality',\n",
    "       'health_status', 'years_schooling', 'children', 'age', 'age_sqr', 'umemployed_last_year']"
   ]
  },
  {
   "cell_type": "code",
   "execution_count": 15,
   "metadata": {},
   "outputs": [],
   "source": [
    "sample_10 = data.loc[:, ['cid', 'pid', 'locus_of_control_10', 'neuroticism_09',\n",
    "       'agreeableness_09', 'extraversion_09', 'conscientiousness_09',\n",
    "       'openness_09', 'neuroticism_05_09',\n",
    "       'agreeableness_05_09', 'extraversion_05_09', 'conscientiousness_05_09',\n",
    "       'openness_05_09', 'neuroticism_09_13', 'agreeableness_09_13',\n",
    "       'extraversion_09_13', 'conscientiousness_09_13', 'openness_09_13', 'locus_of_control_std_10', 'employment_10', 'sex_10', 'hh_income_satisfaction_10',\n",
    "       'year_of_birth_10', 'marital_status_10', 'german_nationality_10',\n",
    "       'health_status_10', 'years_schooling_10', 'children_10', 'age_10', 'age_sqr_10', 'umemployed_last_year_10']] \n",
    "\n",
    "\n",
    "sample_10.columns = ['cid', 'pid', 'locus_of_control', 'neuroticism', 'agreeableness',\n",
    "       'extraversion', 'conscientiousness', 'openness', 'neuroticism_05_09',\n",
    "       'agreeableness_05_09', 'extraversion_05_09', 'conscientiousness_05_09',\n",
    "       'openness_05_09', 'neuroticism_09_13', 'agreeableness_09_13',\n",
    "       'extraversion_09_13', 'conscientiousness_09_13', 'openness_09_13', 'locus_of_control_std', 'umemployed', 'sex', 'hh_income_satisfaction',\n",
    "       'year_of_birth', 'marital_status', 'german_nationality',\n",
    "       'health_status', 'years_schooling', 'children', 'age', 'age_sqr', 'umemployed_last_year']"
   ]
  },
  {
   "cell_type": "code",
   "execution_count": 16,
   "metadata": {},
   "outputs": [],
   "source": [
    "sample_11 = data.loc[:, ['cid', 'pid', 'locus_of_control_10', 'neuroticism_09',\n",
    "       'agreeableness_09', 'extraversion_09', 'conscientiousness_09',\n",
    "       'openness_09', 'neuroticism_05_09',\n",
    "       'agreeableness_05_09', 'extraversion_05_09', 'conscientiousness_05_09',\n",
    "       'openness_05_09', 'neuroticism_09_13', 'agreeableness_09_13',\n",
    "       'extraversion_09_13', 'conscientiousness_09_13', 'openness_09_13', 'locus_of_control_std_10', 'employment_11', 'sex_11', 'hh_income_satisfaction_11',\n",
    "       'year_of_birth_11', 'marital_status_11', 'german_nationality_11',\n",
    "       'health_status_11', 'years_schooling_11', 'children_11', 'age_11', 'age_sqr_11', 'umemployed_last_year_11']] \n",
    "\n",
    "\n",
    "sample_11.columns = ['cid', 'pid', 'locus_of_control', 'neuroticism', 'agreeableness',\n",
    "       'extraversion', 'conscientiousness', 'openness', 'neuroticism_05_09',\n",
    "       'agreeableness_05_09', 'extraversion_05_09', 'conscientiousness_05_09',\n",
    "       'openness_05_09', 'neuroticism_09_13', 'agreeableness_09_13',\n",
    "       'extraversion_09_13', 'conscientiousness_09_13', 'openness_09_13', 'locus_of_control_std', 'umemployed', 'sex', 'hh_income_satisfaction',\n",
    "       'year_of_birth', 'marital_status', 'german_nationality',\n",
    "       'health_status', 'years_schooling', 'children', 'age', 'age_sqr', 'umemployed_last_year']"
   ]
  },
  {
   "cell_type": "code",
   "execution_count": 17,
   "metadata": {},
   "outputs": [],
   "source": [
    "sample_12 = data.loc[:, ['cid', 'pid', 'locus_of_control_10', 'neuroticism_09', 'agreeableness_09', 'extraversion_09',\n",
    "       'conscientiousness_09', 'openness_09', 'neuroticism_05_09',\n",
    "       'agreeableness_05_09', 'extraversion_05_09', 'conscientiousness_05_09',\n",
    "       'openness_05_09', 'neuroticism_09_13', 'agreeableness_09_13',\n",
    "       'extraversion_09_13', 'conscientiousness_09_13', 'openness_09_13', 'locus_of_control_std_10', 'employment_12', 'sex_12', 'hh_income_satisfaction_12',\n",
    "       'year_of_birth_12', 'marital_status_12', 'german_nationality_12',\n",
    "       'health_status_12', 'years_schooling_12', 'children_12', 'age_12', 'age_sqr_12', 'umemployed_last_year_12']] \n",
    "\n",
    "\n",
    "sample_12.columns = ['cid', 'pid', 'locus_of_control', 'neuroticism', 'agreeableness',\n",
    "       'extraversion', 'conscientiousness', 'openness', 'neuroticism_05_09',\n",
    "       'agreeableness_05_09', 'extraversion_05_09', 'conscientiousness_05_09',\n",
    "       'openness_05_09', 'neuroticism_09_13', 'agreeableness_09_13',\n",
    "       'extraversion_09_13', 'conscientiousness_09_13', 'openness_09_13', 'locus_of_control_std', 'umemployed', 'sex', 'hh_income_satisfaction',\n",
    "       'year_of_birth', 'marital_status', 'german_nationality',\n",
    "       'health_status', 'years_schooling', 'children', 'age', 'age_sqr', 'umemployed_last_year']"
   ]
  },
  {
   "cell_type": "code",
   "execution_count": 18,
   "metadata": {},
   "outputs": [],
   "source": [
    "sample_13 = data.loc[:, ['cid', 'pid', 'locus_of_control_10', 'neuroticism_13', 'agreeableness_13', 'extraversion_13',\n",
    "       'conscientiousness_13', 'openness_13', 'neuroticism_05_09',\n",
    "       'agreeableness_05_09', 'extraversion_05_09', 'conscientiousness_05_09',\n",
    "       'openness_05_09', 'neuroticism_09_13', 'agreeableness_09_13',\n",
    "       'extraversion_09_13', 'conscientiousness_09_13', 'openness_09_13', 'locus_of_control_std_10', 'employment_13', 'sex_13', 'hh_income_satisfaction_13',\n",
    "       'year_of_birth_13', 'marital_status_13', 'german_nationality_13',\n",
    "       'health_status_13', 'years_schooling_13', 'children_13', 'age_13', 'age_sqr_13', 'umemployed_last_year_13']] \n",
    "\n",
    "\n",
    "sample_13.columns = ['cid', 'pid', 'locus_of_control', 'neuroticism', 'agreeableness',\n",
    "       'extraversion', 'conscientiousness', 'openness', 'neuroticism_05_09',\n",
    "       'agreeableness_05_09', 'extraversion_05_09', 'conscientiousness_05_09',\n",
    "       'openness_05_09', 'neuroticism_09_13', 'agreeableness_09_13',\n",
    "       'extraversion_09_13', 'conscientiousness_09_13', 'openness_09_13', 'locus_of_control_std', 'umemployed', 'sex', 'hh_income_satisfaction',\n",
    "       'year_of_birth', 'marital_status', 'german_nationality',\n",
    "       'health_status', 'years_schooling', 'children', 'age', 'age_sqr', 'umemployed_last_year']"
   ]
  },
  {
   "cell_type": "code",
   "execution_count": 19,
   "metadata": {},
   "outputs": [],
   "source": [
    "sample_14 = data.loc[:, ['cid', 'pid', 'locus_of_control_10', 'neuroticism_13', 'agreeableness_13', 'extraversion_13',\n",
    "       'conscientiousness_13', 'openness_13', 'neuroticism_05_09',\n",
    "       'agreeableness_05_09', 'extraversion_05_09', 'conscientiousness_05_09',\n",
    "       'openness_05_09', 'neuroticism_09_13', 'agreeableness_09_13',\n",
    "       'extraversion_09_13', 'conscientiousness_09_13', 'openness_09_13', 'locus_of_control_std_15', 'employment_14', 'sex_14', 'hh_income_satisfaction_14',\n",
    "       'year_of_birth_14', 'marital_status_14', 'german_nationality_14',\n",
    "       'health_status_14', 'years_schooling_14', 'children_14', 'age_14', 'age_sqr_14', 'umemployed_last_year_14']] \n",
    "\n",
    "\n",
    "sample_14.columns = ['cid', 'pid', 'locus_of_control', 'neuroticism', 'agreeableness',\n",
    "       'extraversion', 'conscientiousness', 'openness', 'neuroticism_05_09',\n",
    "       'agreeableness_05_09', 'extraversion_05_09', 'conscientiousness_05_09',\n",
    "       'openness_05_09', 'neuroticism_09_13', 'agreeableness_09_13',\n",
    "       'extraversion_09_13', 'conscientiousness_09_13', 'openness_09_13', 'locus_of_control_std', 'umemployed', 'sex', 'hh_income_satisfaction',\n",
    "       'year_of_birth', 'marital_status', 'german_nationality',\n",
    "       'health_status', 'years_schooling', 'children', 'age', 'age_sqr', 'umemployed_last_year']"
   ]
  },
  {
   "cell_type": "code",
   "execution_count": 20,
   "metadata": {},
   "outputs": [],
   "source": [
    "sample_15 = data.loc[:, ['cid', 'pid', 'locus_of_control_15', 'neuroticism_13', 'agreeableness_13', 'extraversion_13',\n",
    "       'conscientiousness_13', 'openness_13', 'neuroticism_05_09',\n",
    "       'agreeableness_05_09', 'extraversion_05_09', 'conscientiousness_05_09',\n",
    "       'openness_05_09', 'neuroticism_09_13', 'agreeableness_09_13',\n",
    "       'extraversion_09_13', 'conscientiousness_09_13', 'openness_09_13', 'locus_of_control_std_15', 'employment_15', 'sex_15', 'hh_income_satisfaction_15',\n",
    "       'year_of_birth_15', 'marital_status_15', 'german_nationality_15',\n",
    "       'health_status_15', 'years_schooling_15', 'children_15', 'age_15', 'age_sqr_15', 'umemployed_last_year_15']] \n",
    "\n",
    "\n",
    "sample_15.columns = ['cid', 'pid', 'locus_of_control', 'neuroticism', 'agreeableness',\n",
    "       'extraversion', 'conscientiousness', 'openness', 'neuroticism_05_09',\n",
    "       'agreeableness_05_09', 'extraversion_05_09', 'conscientiousness_05_09',\n",
    "       'openness_05_09', 'neuroticism_09_13', 'agreeableness_09_13',\n",
    "       'extraversion_09_13', 'conscientiousness_09_13', 'openness_09_13', 'locus_of_control_std', 'umemployed', 'sex', 'hh_income_satisfaction',\n",
    "       'year_of_birth', 'marital_status', 'german_nationality',\n",
    "       'health_status', 'years_schooling', 'children', 'age', 'age_sqr', 'umemployed_last_year']"
   ]
  },
  {
   "cell_type": "code",
   "execution_count": 21,
   "metadata": {},
   "outputs": [],
   "source": [
    "sample = sample_06.append([sample_07,sample_08,sample_09,sample_10,sample_11,\n",
    "                           sample_12, sample_13, sample_14, sample_15], ignore_index=True)"
   ]
  },
  {
   "cell_type": "code",
   "execution_count": 22,
   "metadata": {},
   "outputs": [],
   "source": [
    "sample = sample.loc[(sample['age'] >= 25.0)&(sample['age'] <= 56.0) ]"
   ]
  },
  {
   "cell_type": "code",
   "execution_count": 23,
   "metadata": {},
   "outputs": [],
   "source": [
    "sample = sample.sort_values(by=['pid']).dropna()"
   ]
  },
  {
   "cell_type": "code",
   "execution_count": 24,
   "metadata": {},
   "outputs": [],
   "source": [
    "sample.to_csv(\"../clean_data/sample_regression.csv\")"
   ]
  }
 ],
 "metadata": {
  "kernelspec": {
   "display_name": "Python 3",
   "language": "python",
   "name": "python3"
  },
  "language_info": {
   "codemirror_mode": {
    "name": "ipython",
    "version": 3
   },
   "file_extension": ".py",
   "mimetype": "text/x-python",
   "name": "python",
   "nbconvert_exporter": "python",
   "pygments_lexer": "ipython3",
   "version": "3.6.7"
  }
 },
 "nbformat": 4,
 "nbformat_minor": 2
}
